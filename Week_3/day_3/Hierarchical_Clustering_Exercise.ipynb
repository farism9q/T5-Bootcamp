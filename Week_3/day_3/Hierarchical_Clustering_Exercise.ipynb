{
  "nbformat": 4,
  "nbformat_minor": 0,
  "metadata": {
    "colab": {
      "provenance": []
    },
    "kernelspec": {
      "name": "python3",
      "display_name": "Python 3"
    },
    "language_info": {
      "name": "python"
    }
  },
  "cells": [
    {
      "cell_type": "markdown",
      "source": [
        "#**Python Implementation using the scikit-learn library**"
      ],
      "metadata": {
        "id": "4e6V-qSMAXvS"
      }
    },
    {
      "cell_type": "markdown",
      "source": [
        "#Step 1 : import libraries"
      ],
      "metadata": {
        "id": "Sgm2w_pxAg9T"
      }
    },
    {
      "cell_type": "code",
      "execution_count": 1,
      "metadata": {
        "id": "u_JngPINAVKr"
      },
      "outputs": [],
      "source": [
        "import numpy as np\n",
        "from scipy.cluster.hierarchy import dendrogram, linkage\n",
        "import matplotlib.pyplot as plt"
      ]
    },
    {
      "cell_type": "markdown",
      "source": [
        "#Step 2 : Randomly chosen dataset"
      ],
      "metadata": {
        "id": "MhY9ICWhA0Pa"
      }
    },
    {
      "cell_type": "code",
      "source": [
        "X = np.array([\n",
        "    [1, 6],\n",
        "    [1, 2],\n",
        "    [1, 8],\n",
        "    [3, 6],\n",
        "    [3, 7],\n",
        "    [3, 0],\n",
        "])\n",
        "\n",
        "# n = 6\n",
        "# m = 2"
      ],
      "metadata": {
        "id": "VYbzzX4IApVo"
      },
      "execution_count": 2,
      "outputs": []
    },
    {
      "cell_type": "code",
      "source": [
        "X.shape"
      ],
      "metadata": {
        "colab": {
          "base_uri": "https://localhost:8080/"
        },
        "id": "CUOOw0dORdDE",
        "outputId": "b651ebb6-517c-48da-88ad-53b6e97ac01c"
      },
      "execution_count": 6,
      "outputs": [
        {
          "output_type": "execute_result",
          "data": {
            "text/plain": [
              "(6, 2)"
            ]
          },
          "metadata": {},
          "execution_count": 6
        }
      ]
    },
    {
      "cell_type": "markdown",
      "source": [
        "#Step 3 : Perform hierarchical clustering  + Ploting\n"
      ],
      "metadata": {
        "id": "DQMzE7CyA7zp"
      }
    },
    {
      "cell_type": "code",
      "source": [
        "Z = linkage(X, \"ward\")\n",
        "\n",
        "# Plot dendrogram\n",
        "dendrogram(Z)\n",
        "\n",
        "plt.title('Hierarchical Clustering Dendrogram')\n",
        "plt.xlabel('Data point')\n",
        "plt.ylabel('Distance')\n",
        "plt.show()"
      ],
      "metadata": {
        "id": "K5KNTRWYBIJH",
        "colab": {
          "base_uri": "https://localhost:8080/",
          "height": 476
        },
        "outputId": "e8593aa4-c186-49b8-fb11-d21c9d35cb4e"
      },
      "execution_count": 5,
      "outputs": [
        {
          "output_type": "display_data",
          "data": {
            "text/plain": [
              "<Figure size 640x480 with 1 Axes>"
            ],
            "image/png": "[encoded data removed]"
          },
          "metadata": {}
        }
      ]
    }
  ]
}