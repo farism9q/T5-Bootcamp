{
  "nbformat": 4,
  "nbformat_minor": 0,
  "metadata": {
    "colab": {
      "provenance": [],
      "toc_visible": true
    },
    "kernelspec": {
      "name": "python3",
      "display_name": "Python 3"
    },
    "language_info": {
      "name": "python"
    }
  },
  "cells": [
    {
      "cell_type": "markdown",
      "source": [
        "## Install mongodb lib"
      ],
      "metadata": {
        "id": "Q6VNaSY_BmuK"
      }
    },
    {
      "cell_type": "code",
      "execution_count": 1,
      "metadata": {
        "id": "_1sSz_nndMWF",
        "colab": {
          "base_uri": "https://localhost:8080/"
        },
        "outputId": "b296bc8f-eb4f-4550-d5f6-e9bb1d334039"
      },
      "outputs": [
        {
          "output_type": "stream",
          "name": "stdout",
          "text": [
            "Collecting pymongo\n",
            "  Downloading pymongo-4.8.0-cp310-cp310-manylinux_2_17_x86_64.manylinux2014_x86_64.whl.metadata (22 kB)\n",
            "Collecting dnspython<3.0.0,>=1.16.0 (from pymongo)\n",
            "  Downloading dnspython-2.6.1-py3-none-any.whl.metadata (5.8 kB)\n",
            "Downloading pymongo-4.8.0-cp310-cp310-manylinux_2_17_x86_64.manylinux2014_x86_64.whl (1.2 MB)\n",
            "\u001b[2K   \u001b[90m━━━━━━━━━━━━━━━━━━━━━━━━━━━━━━━━━━━━━━━━\u001b[0m \u001b[32m1.2/1.2 MB\u001b[0m \u001b[31m6.4 MB/s\u001b[0m eta \u001b[36m0:00:00\u001b[0m\n",
            "\u001b[?25hDownloading dnspython-2.6.1-py3-none-any.whl (307 kB)\n",
            "\u001b[2K   \u001b[90m━━━━━━━━━━━━━━━━━━━━━━━━━━━━━━━━━━━━━━━━\u001b[0m \u001b[32m307.7/307.7 kB\u001b[0m \u001b[31m13.7 MB/s\u001b[0m eta \u001b[36m0:00:00\u001b[0m\n",
            "\u001b[?25hInstalling collected packages: dnspython, pymongo\n",
            "Successfully installed dnspython-2.6.1 pymongo-4.8.0\n"
          ]
        }
      ],
      "source": [
        "!pip install pymongo"
      ]
    },
    {
      "cell_type": "markdown",
      "source": [
        "## Imports required libs"
      ],
      "metadata": {
        "id": "C1dy33ZQBuEy"
      }
    },
    {
      "cell_type": "code",
      "execution_count": 2,
      "metadata": {
        "id": "o09UkbxzdMWL"
      },
      "outputs": [],
      "source": [
        "import pymongo\n",
        "from pymongo import MongoClient\n",
        "from pymongo.server_api import ServerApi\n",
        "import os"
      ]
    },
    {
      "cell_type": "markdown",
      "source": [
        "## Connect to your mongo\n"
      ],
      "metadata": {
        "id": "zTnKXqtGBxFM"
      }
    },
    {
      "cell_type": "code",
      "source": [
        "\n",
        "uri = \"MONGO_CONNECTION_STRING\"\n",
        "\n",
        "# Create a new client and connect to the server\n",
        "client = MongoClient(uri, server_api=ServerApi('1'))\n",
        "\n",
        "# Send a ping to confirm a successful connection\n",
        "try:\n",
        "    client.admin.command('ping')\n",
        "    print(\"Pinged your deployment. You successfully connected to MongoDB!\")\n",
        "except Exception as e:\n",
        "    print(e)\n",
        "\n",
        "\n"
      ],
      "metadata": {
        "colab": {
          "base_uri": "https://localhost:8080/"
        },
        "id": "VU9Jgi8wiVcb",
        "outputId": "b3e4f79b-00e2-4033-b058-5f60c1c94912"
      },
      "execution_count": 3,
      "outputs": [
        {
          "output_type": "stream",
          "name": "stdout",
          "text": [
            "Pinged your deployment. You successfully connected to MongoDB!\n"
          ]
        }
      ]
    },
    {
      "cell_type": "code",
      "source": [
        "# Connect to MongoDB\n",
        "\n",
        "client = MongoClient(\"MONGO_CONNECTION_STRING\")\n",
        "\n",
        "# Create a database\n",
        "db = client['T5Bootcamp']\n",
        "\n",
        "# Create a collection\n",
        "traffic_management_coll = db['Traffic Management']"
      ],
      "metadata": {
        "id": "HJYkPT-3CFeT"
      },
      "execution_count": 4,
      "outputs": []
    },
    {
      "cell_type": "markdown",
      "source": [
        "## Mongo operations"
      ],
      "metadata": {
        "id": "YDIruY2KCdZX"
      }
    },
    {
      "cell_type": "markdown",
      "source": [
        "### Insertion\n",
        "**TASK:**\n",
        "- Insert a document representing traffic data for a road section with the following details:\n",
        "Road: \"Highway A1\"\n",
        "Date: \"2024-07-11\"\n",
        "Time: \"08:00\"\n",
        "Traffic Volume: 1200 vehicles\n",
        "Insert additional fields for weather condition: \"Clear\", and vehicle type breakdown: {\"car\": 800, \"truck\": 300, \"motorcycle\": 100}."
      ],
      "metadata": {
        "id": "EEbc_2N3CgvW"
      }
    },
    {
      "cell_type": "code",
      "source": [
        "traffic_management_coll.insert_one({\n",
        "    \"road\": \"Highway A1\",\n",
        "    \"date\": \"2024-07-11\",\n",
        "    \"time\": \"08:00\",\n",
        "    \"traffic_volume\": 1200,\n",
        "    \"weather_condition\": \"Clear\",\n",
        "    \"vehicle_type_breakdown\": {\"car\": 800, \"truck\": 300, \"motorcycle\": 100}\n",
        "})\n",
        "\n",
        "# For delete exercise\n",
        "traffic_management_coll.insert_one({\n",
        "    \"road\": \"Highway A1\",\n",
        "    \"date\": \"2024-07-11\",\n",
        "    \"time\": \"08:00\",\n",
        "    \"traffic_volume\": 1200,\n",
        "    \"weather_condition\": \"Rainy\",\n",
        "    \"vehicle_type_breakdown\": {\"car\": 800, \"truck\": 300, \"motorcycle\": 100}\n",
        "})\n",
        "\n",
        "# For delete exercise\n",
        "traffic_management_coll.insert_one({\n",
        "    \"road\": \"Highway A1\",\n",
        "    \"date\": \"2024-07-11\",\n",
        "    \"time\": \"08:00\",\n",
        "    \"traffic_volume\": 400,\n",
        "    \"weather_condition\": \"Clean\",\n",
        "    \"vehicle_type_breakdown\": {\"car\": 800, \"truck\": 300, \"motorcycle\": 100}\n",
        "})"
      ],
      "metadata": {
        "colab": {
          "base_uri": "https://localhost:8080/"
        },
        "id": "Vhe_FgVfCh-k",
        "outputId": "c5bd42c7-678b-404d-e58e-0de776bfab2a"
      },
      "execution_count": 16,
      "outputs": [
        {
          "output_type": "execute_result",
          "data": {
            "text/plain": [
              "InsertOneResult(ObjectId('66afef8c563b8c7665ac2c35'), acknowledged=True)"
            ]
          },
          "metadata": {},
          "execution_count": 16
        }
      ]
    },
    {
      "cell_type": "markdown",
      "source": [
        "### Query\n",
        "**TASK:**\n",
        "- Find and print all documents in the collection where the traffic volume is between 1000 and 1500 vehicles. For each document, print all fields including\n",
        "weather conditions and vehicle type breakdown."
      ],
      "metadata": {
        "id": "Q-CaHlGMDb8_"
      }
    },
    {
      "cell_type": "code",
      "source": [
        "# Complete\n",
        "\n",
        "result = traffic_management_coll.find({\"traffic_volume\": {'$gte': 1000, '$lte': 1500} })\n",
        "\n",
        "for data in result:\n",
        "  print(\"Road:\", data[\"road\"])\n",
        "  print(\"Date:\", data[\"date\"])\n",
        "  print(\"Time:\",data[\"time\"])\n",
        "  print(\"Traffic volume:\",data[\"traffic_volume\"])\n",
        "  print(\"Weather condition:\",data[\"weather_condition\"])\n",
        "  print(\"Vehicle type breakdown: \",data[\"vehicle_type_breakdown\"])\n"
      ],
      "metadata": {
        "colab": {
          "base_uri": "https://localhost:8080/"
        },
        "id": "1ALQqpPrDdrM",
        "outputId": "618137d1-e9a5-434a-e14c-0c3b049a0a6c"
      },
      "execution_count": 5,
      "outputs": [
        {
          "output_type": "stream",
          "name": "stdout",
          "text": [
            "Road: Highway A1\n",
            "Date: 2024-07-11\n",
            "Time: 08:00\n",
            "Traffic volume: 1200\n",
            "Weather condition: Clear\n",
            "Vehicle type breakdown:  {'car': 800, 'truck': 300, 'motorcycle': 100}\n"
          ]
        }
      ]
    },
    {
      "cell_type": "markdown",
      "source": [
        "### Update\n",
        "**TASKS:**\n",
        "  1.  Increment the traffic volume by 200 vehicles for all documents where the road is \"Highway A1\" and the time is between \"08:00\" and \"10:00\" on \"2024-07-11\".\n",
        "  2. Update the vehicle type breakdown to {\"car\": 850, \"truck\": 320, \"motorcycle\": 130} for the document with the highest traffic volume."
      ],
      "metadata": {
        "id": "58nmdhiAGaTy"
      }
    },
    {
      "cell_type": "code",
      "source": [
        "# TAKSK 1):\n",
        "traffic_management_coll.update_many({\n",
        "    \"road\": \"Highway A1\",\n",
        "    \"time\": {\"$gte\": \"08:00\", \"$lte\": \"10:00\"},\n",
        "    \"date\": \"2024-07-11\"\n",
        "},\n",
        "   # \"$inc\" is used for incrementing and decrementing. Add \"-\" if you want to decrement\n",
        "  {\"$inc\": {\"traffic_volume\": 200}}\n",
        "\n",
        ")\n",
        "\n",
        "# --------------------------------------\n",
        "\n",
        "# TAKSK 2):\n",
        "# \"-1\" to get the result in descending order\n",
        "highest_traffic_vol = traffic_management_coll.find_one(sort=[(\"traffic_volume\", -1)])[\"traffic_volume\"]\n",
        "print(highest_traffic_vol)\n",
        "\n",
        "traffic_management_coll.update_one({\n",
        "  \"traffic_volume\": highest_traffic_vol\n",
        "},\n",
        "{\"$set\": {\"vehicle_type_breakdown\": {\"car\": 850, \"truck\": 320, \"motorcycle\": 130}}}\n",
        ")\n"
      ],
      "metadata": {
        "colab": {
          "base_uri": "https://localhost:8080/"
        },
        "id": "4j706p97Gd3-",
        "outputId": "6cc65490-9af5-483a-ce67-df108da853a9"
      },
      "execution_count": 15,
      "outputs": [
        {
          "output_type": "stream",
          "name": "stdout",
          "text": [
            "1400\n"
          ]
        },
        {
          "output_type": "execute_result",
          "data": {
            "text/plain": [
              "UpdateResult({'n': 1, 'electionId': ObjectId('7fffffff0000000000000061'), 'opTime': {'ts': Timestamp(1722805842, 5), 't': 97}, 'nModified': 1, 'ok': 1.0, '$clusterTime': {'clusterTime': Timestamp(1722805842, 5), 'signature': {'hash': b'\\xab\\x8f\\x10s\\x9f\\xe5\\x14!g\\xf1\\xc3r\\xb4R\\x9f\\xb9*65\\xa9', 'keyId': 7335879767352147970}}, 'operationTime': Timestamp(1722805842, 5), 'updatedExisting': True}, acknowledged=True)"
            ]
          },
          "metadata": {},
          "execution_count": 15
        }
      ]
    },
    {
      "cell_type": "markdown",
      "source": [
        "### Delete\n",
        "**TASKS:**\n",
        "1. Delete all documents where the weather condition is \"Rainy\".\n",
        "2. Delete documents where the traffic volume is less than 500 vehicles and the date is before \"2024-07-11\"."
      ],
      "metadata": {
        "id": "VjuEm3UMPFCK"
      }
    },
    {
      "cell_type": "markdown",
      "source": [
        "#### Instructions\n",
        "1. To see if the operations are implemented correctly, run \"Insertion\" cell first to insert the documents that are about to be deleted.\n",
        "2. Then run the next cell to see the current documents, the two docs to be deleted will be included\n",
        "3. Run the cell that will delete the documents\n",
        "4. Last thing, run last cell to see the documents got deleted"
      ],
      "metadata": {
        "id": "EYZH8_dNRESP"
      }
    },
    {
      "cell_type": "code",
      "source": [
        "docs = traffic_management_coll.find()\n",
        "\n",
        "for doc in docs:\n",
        "  print(doc[\"road\"])\n",
        "  print(doc[\"date\"])\n",
        "  print(doc[\"traffic_volume\"])\n",
        "  print(doc[\"weather_condition\"])\n",
        "  print(\"--------------\")\n",
        ""
      ],
      "metadata": {
        "colab": {
          "base_uri": "https://localhost:8080/"
        },
        "id": "Q4_YgcDnRIxK",
        "outputId": "46e239de-66f7-4a18-b9b7-0c0d6eca6331"
      },
      "execution_count": 19,
      "outputs": [
        {
          "output_type": "stream",
          "name": "stdout",
          "text": [
            "Highway A1\n",
            "2024-07-11\n",
            "1400\n",
            "Clear\n",
            "--------------\n",
            "Highway A1\n",
            "2024-07-11\n",
            "1200\n",
            "Rainy\n",
            "--------------\n",
            "Highway A1\n",
            "2024-07-11\n",
            "400\n",
            "Clean\n",
            "--------------\n"
          ]
        }
      ]
    },
    {
      "cell_type": "code",
      "source": [
        "# Task 1):\n",
        "traffic_management_coll.delete_many({\n",
        "    \"weather_condition\": \"Rainy\"\n",
        "})\n",
        "\n",
        "# ----------------------------\n",
        "\n",
        "# Task 2):\n",
        "traffic_management_coll.delete_many({\n",
        "    \"traffic_volume\": {\"$lte\": 500},\n",
        "    \"date\": {\"$lte\": \"2024-07-11\"}\n",
        "})\n",
        "\n"
      ],
      "metadata": {
        "colab": {
          "base_uri": "https://localhost:8080/"
        },
        "id": "xTtcgktOPLsE",
        "outputId": "0c5dc997-1da8-4bb5-987a-2349d0caba45"
      },
      "execution_count": 20,
      "outputs": [
        {
          "output_type": "execute_result",
          "data": {
            "text/plain": [
              "DeleteResult({'n': 1, 'electionId': ObjectId('7fffffff0000000000000061'), 'opTime': {'ts': Timestamp(1722807082, 8), 't': 97}, 'ok': 1.0, '$clusterTime': {'clusterTime': Timestamp(1722807082, 8), 'signature': {'hash': b'd\\x9aV\\x8dGu\\x19\\x18\\xb5\\x16\\r{\\xd77\\x0f\\xcb\\xbcz\\x1b\\xbd', 'keyId': 7335879767352147970}}, 'operationTime': Timestamp(1722807082, 8)}, acknowledged=True)"
            ]
          },
          "metadata": {},
          "execution_count": 20
        }
      ]
    },
    {
      "cell_type": "code",
      "source": [
        "docs = traffic_management_coll.find()\n",
        "\n",
        "for doc in docs:\n",
        "  print(doc[\"road\"])\n",
        "  print(doc[\"date\"])\n",
        "  print(doc[\"traffic_volume\"])\n",
        "  print(doc[\"weather_condition\"])\n",
        "  print(\"--------------\")\n",
        ""
      ],
      "metadata": {
        "colab": {
          "base_uri": "https://localhost:8080/"
        },
        "id": "ajc1iS0OTQy5",
        "outputId": "c5d23513-f537-4373-d7fa-e8ec5441c850"
      },
      "execution_count": 21,
      "outputs": [
        {
          "output_type": "stream",
          "name": "stdout",
          "text": [
            "Highway A1\n",
            "2024-07-11\n",
            "1400\n",
            "Clear\n",
            "--------------\n"
          ]
        }
      ]
    }
  ]
}