{
  "cells": [
    {
      "cell_type": "markdown",
      "id": "6b5c524a",
      "metadata": {
        "id": "6b5c524a"
      },
      "source": [
        "# JSON Practice Exercises\n",
        "\n",
        "These exercises will help you practice working with JSON in Python."
      ]
    },
    {
      "cell_type": "markdown",
      "id": "530fc65c",
      "metadata": {
        "id": "530fc65c"
      },
      "source": [
        "## Exercise 1: Converting Python Objects to JSON\n",
        "\n",
        "Create a Python dictionary representing a book with the following attributes:\n",
        "- title\n",
        "- author\n",
        "- year\n",
        "\n",
        "Convert this dictionary to a JSON string using `json.dumps()` and print the result."
      ]
    },
    {
      "cell_type": "code",
      "source": [
        "import json"
      ],
      "metadata": {
        "id": "7ZjU8zO9TJ7c"
      },
      "id": "7ZjU8zO9TJ7c",
      "execution_count": null,
      "outputs": []
    },
    {
      "cell_type": "code",
      "execution_count": null,
      "id": "f74a5ed5",
      "metadata": {
        "id": "f74a5ed5",
        "colab": {
          "base_uri": "https://localhost:8080/"
        },
        "outputId": "b1fddfdc-63ed-4735-a469-af75244fded7"
      },
      "outputs": [
        {
          "output_type": "stream",
          "name": "stdout",
          "text": [
            "book in json format {\"title\": \"example\", \"author\": \"faris\", \"year\": 2024}\n",
            "book in json format <class 'str'>\n"
          ]
        }
      ],
      "source": [
        "book = {\n",
        "    \"title\": \"example\",\n",
        "    \"author\": \"faris\",\n",
        "    \"year\": 2024\n",
        "}\n",
        "\n",
        "book_json = json.dumps(book)\n",
        "\n",
        "print(\"book in json format\", book_json)\n",
        "print(\"book in json format\", type(book_json))\n",
        "\n",
        "\n"
      ]
    },
    {
      "cell_type": "markdown",
      "id": "84799d52",
      "metadata": {
        "id": "84799d52"
      },
      "source": [
        "## Exercise 2: Converting JSON to Python Objects\n",
        "\n",
        "Given the following JSON string:\n",
        "```json\n",
        "'{\"name\": \"Alice\", \"age\": 25, \"city\": \"Wonderland\"}'\n",
        "```\n",
        "Convert this JSON string to a Python dictionary using `json.loads()` and print the result."
      ]
    },
    {
      "cell_type": "code",
      "execution_count": null,
      "id": "a2ba7ced",
      "metadata": {
        "id": "a2ba7ced",
        "colab": {
          "base_uri": "https://localhost:8080/"
        },
        "outputId": "8ccdcebe-1786-4751-a816-0a13406120a9"
      },
      "outputs": [
        {
          "output_type": "stream",
          "name": "stdout",
          "text": [
            "person in dict format: {'name': 'Alice', 'age': 25, 'city': 'Wonderland'}\n",
            "person in dict format: <class 'dict'>\n"
          ]
        }
      ],
      "source": [
        "\n",
        "person_json = '{\"name\": \"Alice\", \"age\": 25, \"city\": \"Wonderland\"}'\n",
        "\n",
        "person_dict = json.loads(person_json)\n",
        "\n",
        "print(\"person in dict format:\", person_dict)\n",
        "print(\"person in dict format:\", type(person_dict))\n"
      ]
    },
    {
      "cell_type": "markdown",
      "id": "e291d203",
      "metadata": {
        "id": "e291d203"
      },
      "source": [
        "## Exercise 3: Reading JSON from a File\n",
        "\n",
        "Write a Python script to read the following JSON data from a file named `data.json` and print it:\n",
        "```json\n",
        "{\n",
        "    \"name\": \"Bob\",\n",
        "    \"age\": 22,\n",
        "    \"city\": \"Paris\"\n",
        "}\n",
        "```"
      ]
    },
    {
      "cell_type": "markdown",
      "source": [
        "### Create a json file"
      ],
      "metadata": {
        "id": "SmNL8KUAUPqP"
      },
      "id": "SmNL8KUAUPqP"
    },
    {
      "cell_type": "code",
      "source": [
        "person_dict = {\n",
        "    \"name\": \"Bob\",\n",
        "    \"age\": 22,\n",
        "    \"city\": \"Paris\"\n",
        "}\n",
        "\n",
        "with open('data.json', 'w') as f:\n",
        "    json.dump(person_dict, f)"
      ],
      "metadata": {
        "id": "QCQrMoyeT-Vf"
      },
      "id": "QCQrMoyeT-Vf",
      "execution_count": null,
      "outputs": []
    },
    {
      "cell_type": "code",
      "execution_count": null,
      "id": "a5655d4b",
      "metadata": {
        "id": "a5655d4b",
        "colab": {
          "base_uri": "https://localhost:8080/"
        },
        "outputId": "37c156c3-efbd-4964-e5aa-c27162693591"
      },
      "outputs": [
        {
          "output_type": "stream",
          "name": "stdout",
          "text": [
            "{'name': 'Bob', 'age': 22, 'city': 'Paris'}\n",
            "<class 'dict'>\n"
          ]
        }
      ],
      "source": [
        "# Your code here\n",
        "with open('data.json', 'r') as f:\n",
        "  person_dict = json.load(f)\n",
        "\n",
        "print(person_dict)\n",
        "print(type(person_dict))\n"
      ]
    },
    {
      "cell_type": "markdown",
      "id": "7b83b8f8",
      "metadata": {
        "id": "7b83b8f8"
      },
      "source": [
        "## Exercise 4: Writing JSON to a File\n",
        "\n",
        "Create a Python dictionary representing a student with the following attributes:\n",
        "- name\n",
        "- grade\n",
        "- subjects (a list of subjects)\n",
        "\n",
        "Write this dictionary to a JSON file named `student.json` using `json.dump()`."
      ]
    },
    {
      "cell_type": "code",
      "execution_count": null,
      "id": "96c1b087",
      "metadata": {
        "id": "96c1b087",
        "colab": {
          "base_uri": "https://localhost:8080/"
        },
        "outputId": "656462b0-60ae-4fce-87d5-bc41ed88db19"
      },
      "outputs": [
        {
          "output_type": "stream",
          "name": "stdout",
          "text": [
            "None\n",
            "<class 'NoneType'>\n"
          ]
        }
      ],
      "source": [
        "# Your code here\n",
        "student_dict = {\n",
        "    \"name\": \"Faris\",\n",
        "    \"grade\": \"5\",\n",
        "    \"subjects\": [\"Math\", \"AI\", \"Data Science\"]\n",
        "}\n",
        "\n",
        "with open('student.json', 'w') as file:\n",
        "  student_json = json.dump(student_dict, file)\n",
        "\n",
        "print(student_json)\n",
        "print(type(student_json))\n"
      ]
    },
    {
      "cell_type": "markdown",
      "id": "7d9b3849",
      "metadata": {
        "id": "7d9b3849"
      },
      "source": [
        "## Exercise 5: Pretty Printing JSON\n",
        "\n",
        "Given a Python dictionary representing a movie with the following attributes:\n",
        "- title\n",
        "- director\n",
        "- year\n",
        "- genre\n",
        "\n",
        "Convert this dictionary to a JSON string with indentation using `json.dumps()` and print the result."
      ]
    },
    {
      "cell_type": "code",
      "execution_count": null,
      "id": "cfe017d4",
      "metadata": {
        "id": "cfe017d4",
        "colab": {
          "base_uri": "https://localhost:8080/"
        },
        "outputId": "4b5a7152-75b4-4900-d044-fa0e9b132050"
      },
      "outputs": [
        {
          "output_type": "stream",
          "name": "stdout",
          "text": [
            "{\n",
            "  \"title\": \"Movie\",\n",
            "  \"director\": \"someone\",\n",
            "  \"year\": 2013,\n",
            "  \"genre\": [\n",
            "    \"drama\",\n",
            "    \"action\"\n",
            "  ]\n",
            "}\n",
            "------\n",
            "<class 'str'>\n"
          ]
        }
      ],
      "source": [
        "# Your code here\n",
        "\n",
        "movie_dict = {\n",
        "    \"title\": \"Movie\",\n",
        "    \"director\": \"someone\",\n",
        "    \"year\": 2013,\n",
        "    \"genre\": [\"drama\", \"action\"]\n",
        "}\n",
        "\n",
        "movie_json = json.dumps(movie_dict, indent=2)\n",
        "\n",
        "print(movie_json)\n",
        "print(\"------\")\n",
        "print(type(movie_json))"
      ]
    }
  ],
  "metadata": {
    "colab": {
      "provenance": []
    },
    "language_info": {
      "name": "python"
    },
    "kernelspec": {
      "name": "python3",
      "display_name": "Python 3"
    }
  },
  "nbformat": 4,
  "nbformat_minor": 5
}