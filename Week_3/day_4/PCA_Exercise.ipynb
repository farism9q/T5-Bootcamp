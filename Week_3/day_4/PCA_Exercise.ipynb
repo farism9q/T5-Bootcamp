{
  "nbformat": 4,
  "nbformat_minor": 0,
  "metadata": {
    "colab": {
      "provenance": [],
      "toc_visible": true
    },
    "kernelspec": {
      "name": "python3",
      "display_name": "Python 3"
    },
    "language_info": {
      "name": "python"
    }
  },
  "cells": [
    {
      "cell_type": "markdown",
      "source": [
        "# Steps revision:\n",
        "1. Load dataset\n",
        "2. Split the dataset into train and test\n",
        "3. Feature scaling\n",
        "4. Apply PCA function\n",
        "  \n",
        "  **Note**: When applying PCA function, it expects the parameter to be a **dataframe**, so make sure to convert to dataframe before applying PCA\n",
        "\n",
        "        n_components = 2\n",
        "        pca = PCA(n_components=n_components)\n",
        "\n",
        "        x_train_pca = pca.fit_transform(X_train)\n",
        "\n",
        "        x_test_pca = pca.transform(X_test)\n",
        "\n",
        "        x_tr_df = pd.DataFrame(x_train_pca, columns=[\"PC (1)\", \"PC (2)\"])\n",
        "\n",
        "        x_test_df = pd.DataFrame(x_test_pca, columns=[\"PC (1)\", \"PC (2)\"])\n",
        "\n",
        "5. Fitting logistic regression\n",
        "        lr = LogisticRegression()\n",
        "\n",
        "        lr.fit(x_tr_df, y_train)\n",
        "\n",
        "6. Predict test set\n",
        "        y_pred = lr.predict(x_test_df)\n",
        "\n",
        "7. Visualize the test results\n",
        "        plt.scatter(x_test_df.iloc[:, 0], x_test_df.iloc[:, 1],\n",
        "                    c= y_pred\n",
        "                    )\n",
        "        \n",
        "        # OR\n",
        "        \n",
        "        # giving a larger plot\n",
        "        plt.figure(figsize=(8, 6))\n",
        "\n",
        "        plt.scatter(x_test_pca[:, 0], x_test_pca[:, 1],\n",
        "                    c=y_test['target'],\n",
        "                    cmap='plasma')\n",
        "\n",
        "        # # labeling x and y axes\n",
        "        plt.xlabel('First Principal Component')\n",
        "        plt.ylabel('Second Principal Component')\n",
        "        plt.show()\n"
      ],
      "metadata": {
        "id": "AWcK2WMryBDU"
      }
    },
    {
      "cell_type": "markdown",
      "source": [
        "# **PCA**\n",
        "\n",
        "\n",
        "\n",
        "\n",
        "\n"
      ],
      "metadata": {
        "id": "d_VMK5_TYu5S"
      }
    },
    {
      "cell_type": "markdown",
      "source": [
        "#Step 1 : import libraries"
      ],
      "metadata": {
        "id": "rm1w6Pl2vrr4"
      }
    },
    {
      "cell_type": "code",
      "execution_count": 1,
      "metadata": {
        "id": "KifnD8RtYlFv"
      },
      "outputs": [],
      "source": [
        "import pandas as pd\n",
        "import matplotlib.pyplot as plt\n",
        "\n",
        "from sklearn.decomposition import PCA\n",
        "from sklearn.model_selection import train_test_split\n",
        "from sklearn.datasets import load_breast_cancer\n",
        "\n",
        "from sklearn.preprocessing import StandardScaler\n",
        "from sklearn.linear_model import LogisticRegression\n",
        "from sklearn.metrics import confusion_matrix\n",
        "\n"
      ]
    },
    {
      "cell_type": "markdown",
      "source": [
        "#Step 2: Importing the data set\n",
        "\n",
        "###Import the dataset and distributing the dataset into X and y components for data analysis.\n",
        "\n",
        "\n"
      ],
      "metadata": {
        "id": "YIQqz2T5vy_M"
      }
    },
    {
      "cell_type": "code",
      "source": [
        "# cancer = load_breast_cancer(as_frame=True)\n",
        "# X = pd.DataFrame(cancer.data, columns=cancer.feature_names)\n",
        "# y = pd.DataFrame(cancer.target, columns=[\"target\"])\n",
        "\n",
        "\n",
        "cancer = load_breast_cancer()\n",
        "\n",
        "X = pd.DataFrame(data=cancer.data, columns=cancer.feature_names)\n",
        "y =  pd.DataFrame(data=cancer.target, columns=[\"target\"])\n"
      ],
      "metadata": {
        "id": "rydT0aSdZFBv"
      },
      "execution_count": 5,
      "outputs": []
    },
    {
      "cell_type": "code",
      "source": [
        "print(X.head())"
      ],
      "metadata": {
        "colab": {
          "base_uri": "https://localhost:8080/"
        },
        "collapsed": true,
        "id": "pNAc1achpTyz",
        "outputId": "ecdb2d14-ca11-4d9e-ccf5-2d417fc7c663"
      },
      "execution_count": 4,
      "outputs": [
        {
          "output_type": "stream",
          "name": "stdout",
          "text": [
            "   mean radius  mean texture  mean perimeter  mean area  mean smoothness  \\\n",
            "0        17.99         10.38          122.80     1001.0          0.11840   \n",
            "1        20.57         17.77          132.90     1326.0          0.08474   \n",
            "2        19.69         21.25          130.00     1203.0          0.10960   \n",
            "3        11.42         20.38           77.58      386.1          0.14250   \n",
            "4        20.29         14.34          135.10     1297.0          0.10030   \n",
            "\n",
            "   mean compactness  mean concavity  mean concave points  mean symmetry  \\\n",
            "0           0.27760          0.3001              0.14710         0.2419   \n",
            "1           0.07864          0.0869              0.07017         0.1812   \n",
            "2           0.15990          0.1974              0.12790         0.2069   \n",
            "3           0.28390          0.2414              0.10520         0.2597   \n",
            "4           0.13280          0.1980              0.10430         0.1809   \n",
            "\n",
            "   mean fractal dimension  ...  worst radius  worst texture  worst perimeter  \\\n",
            "0                 0.07871  ...         25.38          17.33           184.60   \n",
            "1                 0.05667  ...         24.99          23.41           158.80   \n",
            "2                 0.05999  ...         23.57          25.53           152.50   \n",
            "3                 0.09744  ...         14.91          26.50            98.87   \n",
            "4                 0.05883  ...         22.54          16.67           152.20   \n",
            "\n",
            "   worst area  worst smoothness  worst compactness  worst concavity  \\\n",
            "0      2019.0            0.1622             0.6656           0.7119   \n",
            "1      1956.0            0.1238             0.1866           0.2416   \n",
            "2      1709.0            0.1444             0.4245           0.4504   \n",
            "3       567.7            0.2098             0.8663           0.6869   \n",
            "4      1575.0            0.1374             0.2050           0.4000   \n",
            "\n",
            "   worst concave points  worst symmetry  worst fractal dimension  \n",
            "0                0.2654          0.4601                  0.11890  \n",
            "1                0.1860          0.2750                  0.08902  \n",
            "2                0.2430          0.3613                  0.08758  \n",
            "3                0.2575          0.6638                  0.17300  \n",
            "4                0.1625          0.2364                  0.07678  \n",
            "\n",
            "[5 rows x 30 columns]\n"
          ]
        }
      ]
    },
    {
      "cell_type": "code",
      "source": [
        "print(y.sample(10))\n",
        "print(y.shape)"
      ],
      "metadata": {
        "colab": {
          "base_uri": "https://localhost:8080/"
        },
        "id": "hEgCCx4kpjDF",
        "outputId": "01de60d9-e6cd-4553-bc68-fa73a7f9b94b"
      },
      "execution_count": 6,
      "outputs": [
        {
          "output_type": "stream",
          "name": "stdout",
          "text": [
            "     target\n",
            "181       0\n",
            "460       0\n",
            "107       1\n",
            "332       1\n",
            "43        0\n",
            "29        0\n",
            "313       1\n",
            "531       1\n",
            "221       1\n",
            "215       0\n",
            "(569, 1)\n"
          ]
        }
      ]
    },
    {
      "cell_type": "markdown",
      "source": [
        "#Step 3 : Step 3: Splitting the dataset into the Training set and Test set\n",
        "\n",
        "\n",
        "\n"
      ],
      "metadata": {
        "id": "iu8551hZZKB1"
      }
    },
    {
      "cell_type": "code",
      "source": [
        "X_train, X_test, y_train, y_test = train_test_split(X, y, test_size=0.2, random_state=42)"
      ],
      "metadata": {
        "id": "KUbALv2xZKp8"
      },
      "execution_count": 7,
      "outputs": []
    },
    {
      "cell_type": "markdown",
      "source": [
        "#Step 4: Feature Scaling\n",
        "###Doing the pre-processing part on training and testing set such as fitting the Standard scale.\n",
        "\n",
        "\n",
        "\n",
        "\n"
      ],
      "metadata": {
        "id": "SgMGNFJwbOwb"
      }
    },
    {
      "cell_type": "code",
      "source": [
        "scaler = StandardScaler()\n",
        "\n",
        "\n",
        "X_train = pd.DataFrame(scaler.fit_transform(X_train), columns=X_train.columns)\n",
        "\n",
        "X_test = pd.DataFrame(scaler.fit_transform(X_test), columns=X_test.columns)\n"
      ],
      "metadata": {
        "id": "IAXZ4SKBbTaF"
      },
      "execution_count": 14,
      "outputs": []
    },
    {
      "cell_type": "code",
      "source": [
        "X_train.head()"
      ],
      "metadata": {
        "colab": {
          "base_uri": "https://localhost:8080/",
          "height": 290
        },
        "id": "yr6pttHmrXaG",
        "outputId": "f3307b67-2634-4886-f340-0fafdceeb15e"
      },
      "execution_count": 15,
      "outputs": [
        {
          "output_type": "execute_result",
          "data": {
            "text/plain": [
              "   mean radius  mean texture  mean perimeter  mean area  mean smoothness  \\\n",
              "0    -1.440753     -0.435319       -1.362085  -1.139118         0.780573   \n",
              "1     1.974096      1.733026        2.091672   1.851973         1.319843   \n",
              "2    -1.399982     -1.249622       -1.345209  -1.109785        -1.332645   \n",
              "3    -0.981797      1.416222       -0.982587  -0.866944         0.059390   \n",
              "4    -1.117700     -1.010259       -1.125002  -0.965942         1.269511   \n",
              "\n",
              "   mean compactness  mean concavity  mean concave points  mean symmetry  \\\n",
              "0          0.718921        2.823135            -0.119150       1.092662   \n",
              "1          3.426275        2.013112             2.665032       2.127004   \n",
              "2         -0.307355       -0.365558            -0.696502       1.930333   \n",
              "3         -0.596788       -0.820203            -0.845115       0.313264   \n",
              "4         -0.439002       -0.983341            -0.930600       3.394436   \n",
              "\n",
              "   mean fractal dimension  ...  worst radius  worst texture  worst perimeter  \\\n",
              "0                2.458173  ...     -1.232861      -0.476309        -1.247920   \n",
              "1                1.558396  ...      2.173314       1.311279         2.081617   \n",
              "2                0.954379  ...     -1.295284      -1.040811        -1.245220   \n",
              "3                0.074041  ...     -0.829197       1.593530        -0.873572   \n",
              "4                0.950213  ...     -1.085129      -1.334616        -1.117138   \n",
              "\n",
              "   worst area  worst smoothness  worst compactness  worst concavity  \\\n",
              "0   -0.973968          0.722894           1.186732         4.672828   \n",
              "1    2.137405          0.761928           3.265601         1.928621   \n",
              "2   -0.999715         -1.438693          -0.548564        -0.644911   \n",
              "3   -0.742947          0.796624          -0.729392        -0.774950   \n",
              "4   -0.896549         -0.174876          -0.995079        -1.209146   \n",
              "\n",
              "   worst concave points  worst symmetry  worst fractal dimension  \n",
              "0              0.932012        2.097242                 1.886450  \n",
              "1              2.698947        1.891161                 2.497838  \n",
              "2             -0.970239        0.597602                 0.057894  \n",
              "3             -0.809483        0.798928                -0.134497  \n",
              "4             -1.354582        1.033544                -0.205732  \n",
              "\n",
              "[5 rows x 30 columns]"
            ],
            "text/html": [
              "\n",
              "  <div id=\"df-53481d69-771a-4d53-96c5-019c1c6b5b6f\" class=\"colab-df-container\">\n",
              "    <div>\n",
              "<style scoped>\n",
              "    .dataframe tbody tr th:only-of-type {\n",
              "        vertical-align: middle;\n",
              "    }\n",
              "\n",
              "    .dataframe tbody tr th {\n",
              "        vertical-align: top;\n",
              "    }\n",
              "\n",
              "    .dataframe thead th {\n",
              "        text-align: right;\n",
              "    }\n",
              "</style>\n",
              "<table border=\"1\" class=\"dataframe\">\n",
              "  <thead>\n",
              "    <tr style=\"text-align: right;\">\n",
              "      <th></th>\n",
              "      <th>mean radius</th>\n",
              "      <th>mean texture</th>\n",
              "      <th>mean perimeter</th>\n",
              "      <th>mean area</th>\n",
              "      <th>mean smoothness</th>\n",
              "      <th>mean compactness</th>\n",
              "      <th>mean concavity</th>\n",
              "      <th>mean concave points</th>\n",
              "      <th>mean symmetry</th>\n",
              "      <th>mean fractal dimension</th>\n",
              "      <th>...</th>\n",
              "      <th>worst radius</th>\n",
              "      <th>worst texture</th>\n",
              "      <th>worst perimeter</th>\n",
              "      <th>worst area</th>\n",
              "      <th>worst smoothness</th>\n",
              "      <th>worst compactness</th>\n",
              "      <th>worst concavity</th>\n",
              "      <th>worst concave points</th>\n",
              "      <th>worst symmetry</th>\n",
              "      <th>worst fractal dimension</th>\n",
              "    </tr>\n",
              "  </thead>\n",
              "  <tbody>\n",
              "    <tr>\n",
              "      <th>0</th>\n",
              "      <td>-1.440753</td>\n",
              "      <td>-0.435319</td>\n",
              "      <td>-1.362085</td>\n",
              "      <td>-1.139118</td>\n",
              "      <td>0.780573</td>\n",
              "      <td>0.718921</td>\n",
              "      <td>2.823135</td>\n",
              "      <td>-0.119150</td>\n",
              "      <td>1.092662</td>\n",
              "      <td>2.458173</td>\n",
              "      <td>...</td>\n",
              "      <td>-1.232861</td>\n",
              "      <td>-0.476309</td>\n",
              "      <td>-1.247920</td>\n",
              "      <td>-0.973968</td>\n",
              "      <td>0.722894</td>\n",
              "      <td>1.186732</td>\n",
              "      <td>4.672828</td>\n",
              "      <td>0.932012</td>\n",
              "      <td>2.097242</td>\n",
              "      <td>1.886450</td>\n",
              "    </tr>\n",
              "    <tr>\n",
              "      <th>1</th>\n",
              "      <td>1.974096</td>\n",
              "      <td>1.733026</td>\n",
              "      <td>2.091672</td>\n",
              "      <td>1.851973</td>\n",
              "      <td>1.319843</td>\n",
              "      <td>3.426275</td>\n",
              "      <td>2.013112</td>\n",
              "      <td>2.665032</td>\n",
              "      <td>2.127004</td>\n",
              "      <td>1.558396</td>\n",
              "      <td>...</td>\n",
              "      <td>2.173314</td>\n",
              "      <td>1.311279</td>\n",
              "      <td>2.081617</td>\n",
              "      <td>2.137405</td>\n",
              "      <td>0.761928</td>\n",
              "      <td>3.265601</td>\n",
              "      <td>1.928621</td>\n",
              "      <td>2.698947</td>\n",
              "      <td>1.891161</td>\n",
              "      <td>2.497838</td>\n",
              "    </tr>\n",
              "    <tr>\n",
              "      <th>2</th>\n",
              "      <td>-1.399982</td>\n",
              "      <td>-1.249622</td>\n",
              "      <td>-1.345209</td>\n",
              "      <td>-1.109785</td>\n",
              "      <td>-1.332645</td>\n",
              "      <td>-0.307355</td>\n",
              "      <td>-0.365558</td>\n",
              "      <td>-0.696502</td>\n",
              "      <td>1.930333</td>\n",
              "      <td>0.954379</td>\n",
              "      <td>...</td>\n",
              "      <td>-1.295284</td>\n",
              "      <td>-1.040811</td>\n",
              "      <td>-1.245220</td>\n",
              "      <td>-0.999715</td>\n",
              "      <td>-1.438693</td>\n",
              "      <td>-0.548564</td>\n",
              "      <td>-0.644911</td>\n",
              "      <td>-0.970239</td>\n",
              "      <td>0.597602</td>\n",
              "      <td>0.057894</td>\n",
              "    </tr>\n",
              "    <tr>\n",
              "      <th>3</th>\n",
              "      <td>-0.981797</td>\n",
              "      <td>1.416222</td>\n",
              "      <td>-0.982587</td>\n",
              "      <td>-0.866944</td>\n",
              "      <td>0.059390</td>\n",
              "      <td>-0.596788</td>\n",
              "      <td>-0.820203</td>\n",
              "      <td>-0.845115</td>\n",
              "      <td>0.313264</td>\n",
              "      <td>0.074041</td>\n",
              "      <td>...</td>\n",
              "      <td>-0.829197</td>\n",
              "      <td>1.593530</td>\n",
              "      <td>-0.873572</td>\n",
              "      <td>-0.742947</td>\n",
              "      <td>0.796624</td>\n",
              "      <td>-0.729392</td>\n",
              "      <td>-0.774950</td>\n",
              "      <td>-0.809483</td>\n",
              "      <td>0.798928</td>\n",
              "      <td>-0.134497</td>\n",
              "    </tr>\n",
              "    <tr>\n",
              "      <th>4</th>\n",
              "      <td>-1.117700</td>\n",
              "      <td>-1.010259</td>\n",
              "      <td>-1.125002</td>\n",
              "      <td>-0.965942</td>\n",
              "      <td>1.269511</td>\n",
              "      <td>-0.439002</td>\n",
              "      <td>-0.983341</td>\n",
              "      <td>-0.930600</td>\n",
              "      <td>3.394436</td>\n",
              "      <td>0.950213</td>\n",
              "      <td>...</td>\n",
              "      <td>-1.085129</td>\n",
              "      <td>-1.334616</td>\n",
              "      <td>-1.117138</td>\n",
              "      <td>-0.896549</td>\n",
              "      <td>-0.174876</td>\n",
              "      <td>-0.995079</td>\n",
              "      <td>-1.209146</td>\n",
              "      <td>-1.354582</td>\n",
              "      <td>1.033544</td>\n",
              "      <td>-0.205732</td>\n",
              "    </tr>\n",
              "  </tbody>\n",
              "</table>\n",
              "<p>5 rows × 30 columns</p>\n",
              "</div>\n",
              "    <div class=\"colab-df-buttons\">\n",
              "\n",
              "  <div class=\"colab-df-container\">\n",
              "    <button class=\"colab-df-convert\" onclick=\"convertToInteractive('df-53481d69-771a-4d53-96c5-019c1c6b5b6f')\"\n",
              "            title=\"Convert this dataframe to an interactive table.\"\n",
              "            style=\"display:none;\">\n",
              "\n",
              "  <svg xmlns=\"http://www.w3.org/2000/svg\" height=\"24px\" viewBox=\"0 -960 960 960\">\n",
              "    <path d=\"M120-120v-720h720v720H120Zm60-500h600v-160H180v160Zm220 220h160v-160H400v160Zm0 220h160v-160H400v160ZM180-400h160v-160H180v160Zm440 0h160v-160H620v160ZM180-180h160v-160H180v160Zm440 0h160v-160H620v160Z\"/>\n",
              "  </svg>\n",
              "    </button>\n",
              "\n",
              "  <style>\n",
              "    .colab-df-container {\n",
              "      display:flex;\n",
              "      gap: 12px;\n",
              "    }\n",
              "\n",
              "    .colab-df-convert {\n",
              "      background-color: #E8F0FE;\n",
              "      border: none;\n",
              "      border-radius: 50%;\n",
              "      cursor: pointer;\n",
              "      display: none;\n",
              "      fill: #1967D2;\n",
              "      height: 32px;\n",
              "      padding: 0 0 0 0;\n",
              "      width: 32px;\n",
              "    }\n",
              "\n",
              "    .colab-df-convert:hover {\n",
              "      background-color: #E2EBFA;\n",
              "      box-shadow: 0px 1px 2px rgba(60, 64, 67, 0.3), 0px 1px 3px 1px rgba(60, 64, 67, 0.15);\n",
              "      fill: #174EA6;\n",
              "    }\n",
              "\n",
              "    .colab-df-buttons div {\n",
              "      margin-bottom: 4px;\n",
              "    }\n",
              "\n",
              "    [theme=dark] .colab-df-convert {\n",
              "      background-color: #3B4455;\n",
              "      fill: #D2E3FC;\n",
              "    }\n",
              "\n",
              "    [theme=dark] .colab-df-convert:hover {\n",
              "      background-color: #434B5C;\n",
              "      box-shadow: 0px 1px 3px 1px rgba(0, 0, 0, 0.15);\n",
              "      filter: drop-shadow(0px 1px 2px rgba(0, 0, 0, 0.3));\n",
              "      fill: #FFFFFF;\n",
              "    }\n",
              "  </style>\n",
              "\n",
              "    <script>\n",
              "      const buttonEl =\n",
              "        document.querySelector('#df-53481d69-771a-4d53-96c5-019c1c6b5b6f button.colab-df-convert');\n",
              "      buttonEl.style.display =\n",
              "        google.colab.kernel.accessAllowed ? 'block' : 'none';\n",
              "\n",
              "      async function convertToInteractive(key) {\n",
              "        const element = document.querySelector('#df-53481d69-771a-4d53-96c5-019c1c6b5b6f');\n",
              "        const dataTable =\n",
              "          await google.colab.kernel.invokeFunction('convertToInteractive',\n",
              "                                                    [key], {});\n",
              "        if (!dataTable) return;\n",
              "\n",
              "        const docLinkHtml = 'Like what you see? Visit the ' +\n",
              "          '<a target=\"_blank\" href=https://colab.research.google.com/notebooks/data_table.ipynb>data table notebook</a>'\n",
              "          + ' to learn more about interactive tables.';\n",
              "        element.innerHTML = '';\n",
              "        dataTable['output_type'] = 'display_data';\n",
              "        await google.colab.output.renderOutput(dataTable, element);\n",
              "        const docLink = document.createElement('div');\n",
              "        docLink.innerHTML = docLinkHtml;\n",
              "        element.appendChild(docLink);\n",
              "      }\n",
              "    </script>\n",
              "  </div>\n",
              "\n",
              "\n",
              "<div id=\"df-78e89e62-6bef-4312-919b-009550fa1bd3\">\n",
              "  <button class=\"colab-df-quickchart\" onclick=\"quickchart('df-78e89e62-6bef-4312-919b-009550fa1bd3')\"\n",
              "            title=\"Suggest charts\"\n",
              "            style=\"display:none;\">\n",
              "\n",
              "<svg xmlns=\"http://www.w3.org/2000/svg\" height=\"24px\"viewBox=\"0 0 24 24\"\n",
              "     width=\"24px\">\n",
              "    <g>\n",
              "        <path d=\"M19 3H5c-1.1 0-2 .9-2 2v14c0 1.1.9 2 2 2h14c1.1 0 2-.9 2-2V5c0-1.1-.9-2-2-2zM9 17H7v-7h2v7zm4 0h-2V7h2v10zm4 0h-2v-4h2v4z\"/>\n",
              "    </g>\n",
              "</svg>\n",
              "  </button>\n",
              "\n",
              "<style>\n",
              "  .colab-df-quickchart {\n",
              "      --bg-color: #E8F0FE;\n",
              "      --fill-color: #1967D2;\n",
              "      --hover-bg-color: #E2EBFA;\n",
              "      --hover-fill-color: #174EA6;\n",
              "      --disabled-fill-color: #AAA;\n",
              "      --disabled-bg-color: #DDD;\n",
              "  }\n",
              "\n",
              "  [theme=dark] .colab-df-quickchart {\n",
              "      --bg-color: #3B4455;\n",
              "      --fill-color: #D2E3FC;\n",
              "      --hover-bg-color: #434B5C;\n",
              "      --hover-fill-color: #FFFFFF;\n",
              "      --disabled-bg-color: #3B4455;\n",
              "      --disabled-fill-color: #666;\n",
              "  }\n",
              "\n",
              "  .colab-df-quickchart {\n",
              "    background-color: var(--bg-color);\n",
              "    border: none;\n",
              "    border-radius: 50%;\n",
              "    cursor: pointer;\n",
              "    display: none;\n",
              "    fill: var(--fill-color);\n",
              "    height: 32px;\n",
              "    padding: 0;\n",
              "    width: 32px;\n",
              "  }\n",
              "\n",
              "  .colab-df-quickchart:hover {\n",
              "    background-color: var(--hover-bg-color);\n",
              "    box-shadow: 0 1px 2px rgba(60, 64, 67, 0.3), 0 1px 3px 1px rgba(60, 64, 67, 0.15);\n",
              "    fill: var(--button-hover-fill-color);\n",
              "  }\n",
              "\n",
              "  .colab-df-quickchart-complete:disabled,\n",
              "  .colab-df-quickchart-complete:disabled:hover {\n",
              "    background-color: var(--disabled-bg-color);\n",
              "    fill: var(--disabled-fill-color);\n",
              "    box-shadow: none;\n",
              "  }\n",
              "\n",
              "  .colab-df-spinner {\n",
              "    border: 2px solid var(--fill-color);\n",
              "    border-color: transparent;\n",
              "    border-bottom-color: var(--fill-color);\n",
              "    animation:\n",
              "      spin 1s steps(1) infinite;\n",
              "  }\n",
              "\n",
              "  @keyframes spin {\n",
              "    0% {\n",
              "      border-color: transparent;\n",
              "      border-bottom-color: var(--fill-color);\n",
              "      border-left-color: var(--fill-color);\n",
              "    }\n",
              "    20% {\n",
              "      border-color: transparent;\n",
              "      border-left-color: var(--fill-color);\n",
              "      border-top-color: var(--fill-color);\n",
              "    }\n",
              "    30% {\n",
              "      border-color: transparent;\n",
              "      border-left-color: var(--fill-color);\n",
              "      border-top-color: var(--fill-color);\n",
              "      border-right-color: var(--fill-color);\n",
              "    }\n",
              "    40% {\n",
              "      border-color: transparent;\n",
              "      border-right-color: var(--fill-color);\n",
              "      border-top-color: var(--fill-color);\n",
              "    }\n",
              "    60% {\n",
              "      border-color: transparent;\n",
              "      border-right-color: var(--fill-color);\n",
              "    }\n",
              "    80% {\n",
              "      border-color: transparent;\n",
              "      border-right-color: var(--fill-color);\n",
              "      border-bottom-color: var(--fill-color);\n",
              "    }\n",
              "    90% {\n",
              "      border-color: transparent;\n",
              "      border-bottom-color: var(--fill-color);\n",
              "    }\n",
              "  }\n",
              "</style>\n",
              "\n",
              "  <script>\n",
              "    async function quickchart(key) {\n",
              "      const quickchartButtonEl =\n",
              "        document.querySelector('#' + key + ' button');\n",
              "      quickchartButtonEl.disabled = true;  // To prevent multiple clicks.\n",
              "      quickchartButtonEl.classList.add('colab-df-spinner');\n",
              "      try {\n",
              "        const charts = await google.colab.kernel.invokeFunction(\n",
              "            'suggestCharts', [key], {});\n",
              "      } catch (error) {\n",
              "        console.error('Error during call to suggestCharts:', error);\n",
              "      }\n",
              "      quickchartButtonEl.classList.remove('colab-df-spinner');\n",
              "      quickchartButtonEl.classList.add('colab-df-quickchart-complete');\n",
              "    }\n",
              "    (() => {\n",
              "      let quickchartButtonEl =\n",
              "        document.querySelector('#df-78e89e62-6bef-4312-919b-009550fa1bd3 button');\n",
              "      quickchartButtonEl.style.display =\n",
              "        google.colab.kernel.accessAllowed ? 'block' : 'none';\n",
              "    })();\n",
              "  </script>\n",
              "</div>\n",
              "\n",
              "    </div>\n",
              "  </div>\n"
            ],
            "application/vnd.google.colaboratory.intrinsic+json": {
              "type": "dataframe",
              "variable_name": "X_train"
            }
          },
          "metadata": {},
          "execution_count": 15
        }
      ]
    },
    {
      "cell_type": "markdown",
      "source": [
        "#Step 5: Applying PCA function\n",
        "###Applying the PCA function into the training and testing set for analysis.\n",
        "\n",
        "\n"
      ],
      "metadata": {
        "id": "JRKujGH2bmQQ"
      }
    },
    {
      "cell_type": "code",
      "source": [
        "\n",
        "n_components = 2\n",
        "pca = PCA(n_components=n_components)\n",
        "\n",
        "\n",
        "x_train_pca = pca.fit_transform(X_train)\n",
        "\n",
        "x_test_pca = pca.transform(X_test)\n",
        "\n",
        "# Convert x_pca to dataframe Make sure to add columns as each column represent pca number\n",
        "# x_tr_df = pd.DataFrame(x_train_pca, columns=['PC{}'.\n",
        "#                        format(i+1)\n",
        "#                         for i in range(n_components)])\n",
        "\n",
        "# x_test_df = pd.DataFrame(x_test_pca, columns=['PC{}'.\n",
        "#                        format(i+1)\n",
        "#                         for i in range(n_components)])\n",
        "\n",
        "x_tr_df = pd.DataFrame(x_train_pca, columns=[\"PC (1)\", \"PC (2)\"])\n",
        "\n",
        "x_test_df = pd.DataFrame(x_test_pca, columns=[\"PC (1)\", \"PC (2)\"])\n",
        "\n",
        "print(x_tr_df.head())\n",
        "print(\"-----------\")\n",
        "print(x_test_df.head())"
      ],
      "metadata": {
        "id": "H8kF4bozbt2o",
        "colab": {
          "base_uri": "https://localhost:8080/"
        },
        "outputId": "55de17e3-c7f4-4903-bf05-69154d90ebf0"
      },
      "execution_count": 17,
      "outputs": [
        {
          "output_type": "stream",
          "name": "stdout",
          "text": [
            "     PC (1)    PC (2)\n",
            "0  4.244903  9.131428\n",
            "1  9.053755  0.475310\n",
            "2 -2.275374  3.278471\n",
            "3 -2.510453  0.743743\n",
            "4 -2.302848  2.665155\n",
            "-----------\n",
            "     PC (1)    PC (2)\n",
            "0 -0.891656  0.643475\n",
            "1  2.574275 -4.651658\n",
            "2  1.293122 -1.175431\n",
            "3 -0.938165  2.719665\n",
            "4 -1.641887  2.685635\n"
          ]
        }
      ]
    },
    {
      "cell_type": "markdown",
      "source": [
        "#Step 6: Fitting Logistic Regression To the training set\n",
        "\n",
        "\n"
      ],
      "metadata": {
        "id": "mEe5WUw5bzKQ"
      }
    },
    {
      "cell_type": "code",
      "source": [
        "lr = LogisticRegression()\n",
        "\n",
        "lr.fit(x_tr_df, y_train)\n",
        "\n"
      ],
      "metadata": {
        "id": "GigvLsiBbyen",
        "colab": {
          "base_uri": "https://localhost:8080/",
          "height": 130
        },
        "outputId": "00ede112-a828-48e6-c211-aec9aaaced4f"
      },
      "execution_count": 18,
      "outputs": [
        {
          "output_type": "stream",
          "name": "stderr",
          "text": [
            "/usr/local/lib/python3.10/dist-packages/sklearn/utils/validation.py:1183: DataConversionWarning: A column-vector y was passed when a 1d array was expected. Please change the shape of y to (n_samples, ), for example using ravel().\n",
            "  y = column_or_1d(y, warn=True)\n"
          ]
        },
        {
          "output_type": "execute_result",
          "data": {
            "text/plain": [
              "LogisticRegression()"
            ],
            "text/html": [
              "<style>#sk-container-id-1 {color: black;}#sk-container-id-1 pre{padding: 0;}#sk-container-id-1 div.sk-toggleable {background-color: white;}#sk-container-id-1 label.sk-toggleable__label {cursor: pointer;display: block;width: 100%;margin-bottom: 0;padding: 0.3em;box-sizing: border-box;text-align: center;}#sk-container-id-1 label.sk-toggleable__label-arrow:before {content: \"▸\";float: left;margin-right: 0.25em;color: #696969;}#sk-container-id-1 label.sk-toggleable__label-arrow:hover:before {color: black;}#sk-container-id-1 div.sk-estimator:hover label.sk-toggleable__label-arrow:before {color: black;}#sk-container-id-1 div.sk-toggleable__content {max-height: 0;max-width: 0;overflow: hidden;text-align: left;background-color: #f0f8ff;}#sk-container-id-1 div.sk-toggleable__content pre {margin: 0.2em;color: black;border-radius: 0.25em;background-color: #f0f8ff;}#sk-container-id-1 input.sk-toggleable__control:checked~div.sk-toggleable__content {max-height: 200px;max-width: 100%;overflow: auto;}#sk-container-id-1 input.sk-toggleable__control:checked~label.sk-toggleable__label-arrow:before {content: \"▾\";}#sk-container-id-1 div.sk-estimator input.sk-toggleable__control:checked~label.sk-toggleable__label {background-color: #d4ebff;}#sk-container-id-1 div.sk-label input.sk-toggleable__control:checked~label.sk-toggleable__label {background-color: #d4ebff;}#sk-container-id-1 input.sk-hidden--visually {border: 0;clip: rect(1px 1px 1px 1px);clip: rect(1px, 1px, 1px, 1px);height: 1px;margin: -1px;overflow: hidden;padding: 0;position: absolute;width: 1px;}#sk-container-id-1 div.sk-estimator {font-family: monospace;background-color: #f0f8ff;border: 1px dotted black;border-radius: 0.25em;box-sizing: border-box;margin-bottom: 0.5em;}#sk-container-id-1 div.sk-estimator:hover {background-color: #d4ebff;}#sk-container-id-1 div.sk-parallel-item::after {content: \"\";width: 100%;border-bottom: 1px solid gray;flex-grow: 1;}#sk-container-id-1 div.sk-label:hover label.sk-toggleable__label {background-color: #d4ebff;}#sk-container-id-1 div.sk-serial::before {content: \"\";position: absolute;border-left: 1px solid gray;box-sizing: border-box;top: 0;bottom: 0;left: 50%;z-index: 0;}#sk-container-id-1 div.sk-serial {display: flex;flex-direction: column;align-items: center;background-color: white;padding-right: 0.2em;padding-left: 0.2em;position: relative;}#sk-container-id-1 div.sk-item {position: relative;z-index: 1;}#sk-container-id-1 div.sk-parallel {display: flex;align-items: stretch;justify-content: center;background-color: white;position: relative;}#sk-container-id-1 div.sk-item::before, #sk-container-id-1 div.sk-parallel-item::before {content: \"\";position: absolute;border-left: 1px solid gray;box-sizing: border-box;top: 0;bottom: 0;left: 50%;z-index: -1;}#sk-container-id-1 div.sk-parallel-item {display: flex;flex-direction: column;z-index: 1;position: relative;background-color: white;}#sk-container-id-1 div.sk-parallel-item:first-child::after {align-self: flex-end;width: 50%;}#sk-container-id-1 div.sk-parallel-item:last-child::after {align-self: flex-start;width: 50%;}#sk-container-id-1 div.sk-parallel-item:only-child::after {width: 0;}#sk-container-id-1 div.sk-dashed-wrapped {border: 1px dashed gray;margin: 0 0.4em 0.5em 0.4em;box-sizing: border-box;padding-bottom: 0.4em;background-color: white;}#sk-container-id-1 div.sk-label label {font-family: monospace;font-weight: bold;display: inline-block;line-height: 1.2em;}#sk-container-id-1 div.sk-label-container {text-align: center;}#sk-container-id-1 div.sk-container {/* jupyter's `normalize.less` sets `[hidden] { display: none; }` but bootstrap.min.css set `[hidden] { display: none !important; }` so we also need the `!important` here to be able to override the default hidden behavior on the sphinx rendered scikit-learn.org. See: https://github.com/scikit-learn/scikit-learn/issues/21755 */display: inline-block !important;position: relative;}#sk-container-id-1 div.sk-text-repr-fallback {display: none;}</style><div id=\"sk-container-id-1\" class=\"sk-top-container\"><div class=\"sk-text-repr-fallback\"><pre>LogisticRegression()</pre><b>In a Jupyter environment, please rerun this cell to show the HTML representation or trust the notebook. <br />On GitHub, the HTML representation is unable to render, please try loading this page with nbviewer.org.</b></div><div class=\"sk-container\" hidden><div class=\"sk-item\"><div class=\"sk-estimator sk-toggleable\"><input class=\"sk-toggleable__control sk-hidden--visually\" id=\"sk-estimator-id-1\" type=\"checkbox\" checked><label for=\"sk-estimator-id-1\" class=\"sk-toggleable__label sk-toggleable__label-arrow\">LogisticRegression</label><div class=\"sk-toggleable__content\"><pre>LogisticRegression()</pre></div></div></div></div></div>"
            ]
          },
          "metadata": {},
          "execution_count": 18
        }
      ]
    },
    {
      "cell_type": "markdown",
      "source": [
        "#Step 7: Predicting the test set result\n",
        "\n",
        "\n"
      ],
      "metadata": {
        "id": "5Rwr3eVZV_5e"
      }
    },
    {
      "cell_type": "code",
      "source": [
        "\n",
        "y_pred = lr.predict(x_test_df)\n",
        "\n"
      ],
      "metadata": {
        "id": "iUWVlHMgb2g8"
      },
      "execution_count": 19,
      "outputs": []
    },
    {
      "cell_type": "code",
      "source": [
        "y_pred"
      ],
      "metadata": {
        "collapsed": true,
        "colab": {
          "base_uri": "https://localhost:8080/"
        },
        "id": "Lo-tzGODwsX_",
        "outputId": "f19d0cb1-0cde-437e-e584-dc25b3efa66b"
      },
      "execution_count": 23,
      "outputs": [
        {
          "output_type": "execute_result",
          "data": {
            "text/plain": [
              "array([1, 0, 0, 1, 1, 0, 0, 0, 1, 1, 1, 0, 1, 0, 1, 0, 1, 1, 1, 0, 1, 1,\n",
              "       0, 1, 1, 1, 1, 1, 1, 0, 1, 1, 1, 1, 1, 1, 0, 1, 0, 1, 1, 0, 1, 1,\n",
              "       1, 1, 1, 1, 1, 1, 0, 0, 1, 1, 1, 1, 1, 0, 1, 1, 1, 0, 0, 1, 1, 1,\n",
              "       0, 0, 1, 1, 0, 0, 1, 0, 1, 1, 1, 1, 1, 1, 0, 1, 0, 0, 0, 0, 0, 0,\n",
              "       1, 1, 1, 1, 1, 1, 1, 1, 0, 0, 1, 0, 0, 1, 0, 0, 1, 1, 1, 0, 1, 1,\n",
              "       0, 1, 1, 0])"
            ]
          },
          "metadata": {},
          "execution_count": 23
        }
      ]
    },
    {
      "cell_type": "markdown",
      "source": [
        "#Step 8: Making the confusion matrix\n",
        "\n",
        "\n"
      ],
      "metadata": {
        "id": "5LriaSY7b-rk"
      }
    },
    {
      "cell_type": "code",
      "source": [
        "cm = confusion_matrix(y_test, y_pred)\n",
        "\n",
        "print(\"Confusion matrix:\")\n",
        "print(cm)"
      ],
      "metadata": {
        "id": "Lfg8qrT0b6jC",
        "colab": {
          "base_uri": "https://localhost:8080/"
        },
        "outputId": "001f0848-4d7f-481d-9da1-86fd0f6d7b66"
      },
      "execution_count": 20,
      "outputs": [
        {
          "output_type": "stream",
          "name": "stdout",
          "text": [
            "Confusion matrix:\n",
            "[[40  3]\n",
            " [ 0 71]]\n"
          ]
        }
      ]
    },
    {
      "cell_type": "markdown",
      "source": [
        "#Step 9: Predicting the training set result\n",
        "\n",
        "\n"
      ],
      "metadata": {
        "id": "O5y7HfZBcNWB"
      }
    },
    {
      "cell_type": "code",
      "source": [
        "cm = confusion_matrix(y_train, lr.predict(x_tr_df))\n",
        "\n",
        "print(\"Confusion matrix:\")\n",
        "print(cm)"
      ],
      "metadata": {
        "id": "JQOq1bdwcEQ-",
        "colab": {
          "base_uri": "https://localhost:8080/"
        },
        "outputId": "b0432e98-b896-4227-8525-d1898aa23452"
      },
      "execution_count": 21,
      "outputs": [
        {
          "output_type": "stream",
          "name": "stdout",
          "text": [
            "Confusion matrix:\n",
            "[[155  14]\n",
            " [ 10 276]]\n"
          ]
        }
      ]
    },
    {
      "cell_type": "markdown",
      "source": [
        "#Step 10: Visualizing the Test set results\n",
        "\n",
        "\n"
      ],
      "metadata": {
        "id": "ggs2TZ_BWPXk"
      }
    },
    {
      "cell_type": "code",
      "source": [
        "x_test_pca"
      ],
      "metadata": {
        "collapsed": true,
        "colab": {
          "base_uri": "https://localhost:8080/"
        },
        "id": "aFS4SwM0wVwl",
        "outputId": "9eb2b4a2-639d-48a0-ead8-93fa221cbe53"
      },
      "execution_count": 22,
      "outputs": [
        {
          "output_type": "execute_result",
          "data": {
            "text/plain": [
              "array([[-8.91655730e-01,  6.43475394e-01],\n",
              "       [ 2.57427482e+00, -4.65165817e+00],\n",
              "       [ 1.29312181e+00, -1.17543103e+00],\n",
              "       [-9.38164568e-01,  2.71966472e+00],\n",
              "       [-1.64188704e+00,  2.68563532e+00],\n",
              "       [ 1.04943932e+01,  1.91652923e+00],\n",
              "       [ 7.22419376e+00, -3.80612689e+00],\n",
              "       [ 1.65513794e+00, -1.56052831e+00],\n",
              "       [ 1.09863318e+00,  2.65134108e+00],\n",
              "       [-3.45211393e+00, -2.21331056e+00],\n",
              "       [-3.05573200e+00, -1.76938256e+00],\n",
              "       [ 1.13424122e+00, -2.10213608e+00],\n",
              "       [-3.28489788e+00, -2.92884389e+00],\n",
              "       [ 2.16576777e+00,  1.28499315e+00],\n",
              "       [-3.42771537e+00, -1.04713526e+00],\n",
              "       [ 5.06925133e+00,  1.04492753e+00],\n",
              "       [-2.99458770e+00, -2.30408976e+00],\n",
              "       [-4.05281045e+00,  9.88264712e-01],\n",
              "       [-4.70464018e+00,  3.42961051e+00],\n",
              "       [ 5.10492163e+00, -2.48610983e+00],\n",
              "       [-5.69390938e-01,  5.32686264e-02],\n",
              "       [-2.16712432e+00,  3.14010869e-01],\n",
              "       [ 7.64069853e+00, -8.79124049e-01],\n",
              "       [-4.98077719e+00, -5.30787268e-01],\n",
              "       [-3.25107661e+00, -3.46845267e-01],\n",
              "       [-8.77698846e-01,  1.92627248e+00],\n",
              "       [-2.49403572e+00, -9.62827834e-01],\n",
              "       [-2.11464830e+00,  1.89492507e+00],\n",
              "       [-2.59370830e+00, -3.35437056e-01],\n",
              "       [ 5.49348836e+00,  1.09413294e+00],\n",
              "       [-2.10653683e+00,  1.39256940e+00],\n",
              "       [-3.89912498e+00, -8.14754896e-01],\n",
              "       [-1.85670061e+00,  2.45068227e+00],\n",
              "       [-2.95040127e+00, -1.66561247e+00],\n",
              "       [-3.13211905e+00,  1.74351482e+00],\n",
              "       [-3.01584731e+00,  5.25077899e-03],\n",
              "       [-1.04082328e+00, -2.78606318e+00],\n",
              "       [-2.55619346e+00, -2.38842086e-01],\n",
              "       [ 2.05895984e+00, -2.85585268e+00],\n",
              "       [-1.79827915e+00, -1.72156924e+00],\n",
              "       [-2.77290283e+00,  1.42960738e+00],\n",
              "       [ 2.13711411e+00,  4.25013806e-01],\n",
              "       [-1.82033570e+00,  8.11585554e-01],\n",
              "       [-3.20164249e+00, -4.25973322e-01],\n",
              "       [-1.33320085e+00,  7.09812997e-01],\n",
              "       [-2.39259463e+00,  6.64357545e-01],\n",
              "       [-1.26526217e+00,  4.95360101e+00],\n",
              "       [-4.23960397e+00,  2.63547693e-03],\n",
              "       [-1.95822593e+00,  7.42913857e-01],\n",
              "       [-1.38119476e+00,  3.30810042e-01],\n",
              "       [ 1.42628275e+00, -2.65481318e+00],\n",
              "       [ 6.10006216e+00, -7.45162500e-01],\n",
              "       [ 1.79592472e-01,  2.14824774e+00],\n",
              "       [ 4.31771974e-01,  1.72081749e+00],\n",
              "       [-6.90365491e-01,  3.97655818e+00],\n",
              "       [-3.01650434e+00, -1.87639719e+00],\n",
              "       [-1.27526319e+00,  3.77914212e+00],\n",
              "       [ 1.08400282e+01, -2.12152690e+00],\n",
              "       [ 5.91385731e-01,  9.10636839e-01],\n",
              "       [-3.36095784e+00,  3.12712508e-01],\n",
              "       [-2.20473978e+00, -3.25215302e-01],\n",
              "       [ 5.75401129e+00, -1.07872102e+00],\n",
              "       [ 6.55768744e+00, -3.61805982e+00],\n",
              "       [-2.80720393e+00, -2.54287246e+00],\n",
              "       [-4.05548501e+00, -1.02365050e+00],\n",
              "       [-1.64241955e+00, -1.27552006e-01],\n",
              "       [ 5.01368258e+00,  2.60888472e+00],\n",
              "       [ 1.21095013e+01,  5.04948793e+00],\n",
              "       [-3.49612956e+00,  3.83251991e-03],\n",
              "       [-5.85304221e-01,  1.39484094e+00],\n",
              "       [ 2.57012451e+00,  2.40840891e+00],\n",
              "       [ 2.58127738e+00,  6.91751759e-02],\n",
              "       [-3.18072674e+00, -1.82043269e+00],\n",
              "       [ 2.91111993e+00,  9.12620361e-01],\n",
              "       [-4.33445355e+00,  2.42347211e+00],\n",
              "       [-1.48936149e+00,  3.99145254e-01],\n",
              "       [-2.56739943e+00, -1.43449845e+00],\n",
              "       [ 3.67587324e-01,  3.47735490e-01],\n",
              "       [-4.55108691e+00, -9.39149768e-01],\n",
              "       [-1.03954237e+00,  2.25891016e+00],\n",
              "       [ 1.20981386e+00, -1.27724473e+00],\n",
              "       [-4.63946318e+00, -9.40592779e-01],\n",
              "       [ 6.11840777e-01,  2.78253457e-01],\n",
              "       [ 7.34333168e+00, -1.89545911e+00],\n",
              "       [ 1.22621704e-01, -3.28461536e+00],\n",
              "       [ 5.37804200e+00,  4.16923141e+00],\n",
              "       [ 6.47601429e+00,  8.31979625e+00],\n",
              "       [ 6.13142534e+00,  1.76062652e+00],\n",
              "       [-1.65521842e+00,  1.38687473e+00],\n",
              "       [-1.98623603e+00,  3.44306190e-01],\n",
              "       [-2.32545633e+00,  4.18914898e-01],\n",
              "       [-1.06907505e+00, -4.39687496e-02],\n",
              "       [-7.98630753e-01, -8.83964908e-01],\n",
              "       [-5.17703117e+00, -2.26660499e+00],\n",
              "       [-3.36656504e+00,  8.81637273e-01],\n",
              "       [-2.53264102e+00,  2.68804416e+00],\n",
              "       [ 3.74368547e+00, -3.66027869e+00],\n",
              "       [ 4.57573066e+00,  3.11268834e+00],\n",
              "       [-3.92896297e+00,  8.84194480e-02],\n",
              "       [ 2.43247457e+00, -1.35123696e+00],\n",
              "       [ 5.78057946e-01, -1.72012263e+00],\n",
              "       [-5.23697476e+00,  3.97001006e-01],\n",
              "       [ 6.41466817e+00,  1.03436890e+00],\n",
              "       [ 2.64739146e+00, -1.13566644e+00],\n",
              "       [-2.67297170e+00,  1.67127917e-01],\n",
              "       [-1.67403745e+00,  3.37973757e-01],\n",
              "       [-1.40969211e+00,  1.63498388e+00],\n",
              "       [ 7.35710671e+00, -5.69955885e+00],\n",
              "       [-5.64531954e-01, -3.97204883e-01],\n",
              "       [-2.55166951e+00, -2.61366880e+00],\n",
              "       [ 1.40461708e+00, -2.05777517e+00],\n",
              "       [-2.64882450e+00,  3.92872550e-01],\n",
              "       [-8.49084027e-01, -9.85058671e-01],\n",
              "       [ 6.59252953e+00, -6.31764052e+00]])"
            ]
          },
          "metadata": {},
          "execution_count": 22
        }
      ]
    },
    {
      "cell_type": "code",
      "source": [
        "plt.scatter(x_test_df.iloc[:, 0], x_test_df.iloc[:, 1],\n",
        "            c= y_pred\n",
        "            )"
      ],
      "metadata": {
        "colab": {
          "base_uri": "https://localhost:8080/",
          "height": 447
        },
        "id": "7jOR-RCkwHkH",
        "outputId": "b4ca5ff1-f314-45f0-8e5b-6c3812d0c78e"
      },
      "execution_count": 25,
      "outputs": [
        {
          "output_type": "execute_result",
          "data": {
            "text/plain": [
              "<matplotlib.collections.PathCollection at 0x7f5f45406bf0>"
            ]
          },
          "metadata": {},
          "execution_count": 25
        },
        {
          "output_type": "display_data",
          "data": {
            "text/plain": [
              "<Figure size 640x480 with 1 Axes>"
            ],
            "image/png": "[encoded data removed]"
          },
          "metadata": {}
        }
      ]
    },
    {
      "cell_type": "code",
      "source": [
        "\n",
        "# giving a larger plot\n",
        "plt.figure(figsize=(8, 6))\n",
        "\n",
        "plt.scatter(x_test_pca[:, 0], x_test_pca[:, 1],\n",
        "            c=y_test['target'],\n",
        "            cmap='plasma')\n",
        "\n",
        "# # labeling x and y axes\n",
        "plt.xlabel('First Principal Component')\n",
        "plt.ylabel('Second Principal Component')\n",
        "plt.show()\n"
      ],
      "metadata": {
        "id": "LoqPn9RCc4bM",
        "colab": {
          "base_uri": "https://localhost:8080/",
          "height": 542
        },
        "outputId": "46f2b5d1-3fd8-419c-dc8c-cfc5fc47a99c"
      },
      "execution_count": 26,
      "outputs": [
        {
          "output_type": "display_data",
          "data": {
            "text/plain": [
              "<Figure size 800x600 with 1 Axes>"
            ],
            "image/png": "[encoded data removed]"
          },
          "metadata": {}
        }
      ]
    },
    {
      "cell_type": "markdown",
      "source": [
        "#**Well Done :)**\n",
        "Now let's practice!"
      ],
      "metadata": {
        "id": "eNSPTcFRvHqe"
      }
    }
  ]
}