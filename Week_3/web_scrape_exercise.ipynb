{
  "cells": [
    {
      "cell_type": "markdown",
      "id": "274661b6",
      "metadata": {
        "id": "274661b6"
      },
      "source": [
        "# Web Scraping Tutorial\n",
        "\n",
        "This notebook provides a step-by-step guide to scrape data from a website. Web scraping is a technique used to extract information from websites by transforming the data on web pages into a structured format. This is particularly useful for data analysis, machine learning, and other data-driven tasks.\n",
        "\n",
        "In this tutorial, we will walk through the process of scraping product information from a sample e-commerce site. By following these steps, you will learn how to:\n",
        "\n",
        "1. Send HTTP requests to retrieve web pages.\n",
        "2. Parse HTML content using BeautifulSoup.\n",
        "3. Identify and extract relevant data elements from the parsed HTML.\n",
        "4. Store the extracted data in a structured format using pandas.\n",
        "5. Save the data to a CSV file.\n",
        "6. Optionally, save the data to a database such as MongoDB.\n",
        "\n",
        "The website we will be scraping is [ScrapeMe](https://scrapeme.live/shop/). This site is designed for practice purposes and contains a variety of products with details such as names and prices, which makes it an ideal candidate for learning web scraping techniques.\n",
        "\n",
        "Before you begin, please visit the site to understand its structure. This will help you identify the elements you need to scrape.\n",
        "\n",
        "Let's get started!"
      ]
    },
    {
      "cell_type": "code",
      "source": [
        "! pip install requests\n",
        "! pip install beautifulsoup4\n",
        "! pip install pymongo"
      ],
      "metadata": {
        "colab": {
          "base_uri": "https://localhost:8080/"
        },
        "id": "AuUcIEudlna0",
        "outputId": "f27e9555-5fde-484f-fe41-49b8cd09c315"
      },
      "id": "AuUcIEudlna0",
      "execution_count": null,
      "outputs": [
        {
          "output_type": "stream",
          "name": "stdout",
          "text": [
            "Requirement already satisfied: requests in /usr/local/lib/python3.10/dist-packages (2.31.0)\n",
            "Requirement already satisfied: charset-normalizer<4,>=2 in /usr/local/lib/python3.10/dist-packages (from requests) (3.3.2)\n",
            "Requirement already satisfied: idna<4,>=2.5 in /usr/local/lib/python3.10/dist-packages (from requests) (3.7)\n",
            "Requirement already satisfied: urllib3<3,>=1.21.1 in /usr/local/lib/python3.10/dist-packages (from requests) (2.0.7)\n",
            "Requirement already satisfied: certifi>=2017.4.17 in /usr/local/lib/python3.10/dist-packages (from requests) (2024.7.4)\n",
            "Requirement already satisfied: beautifulsoup4 in /usr/local/lib/python3.10/dist-packages (4.12.3)\n",
            "Requirement already satisfied: soupsieve>1.2 in /usr/local/lib/python3.10/dist-packages (from beautifulsoup4) (2.5)\n",
            "Collecting pymongo\n",
            "  Downloading pymongo-4.8.0-cp310-cp310-manylinux_2_17_x86_64.manylinux2014_x86_64.whl.metadata (22 kB)\n",
            "Collecting dnspython<3.0.0,>=1.16.0 (from pymongo)\n",
            "  Downloading dnspython-2.6.1-py3-none-any.whl.metadata (5.8 kB)\n",
            "Downloading pymongo-4.8.0-cp310-cp310-manylinux_2_17_x86_64.manylinux2014_x86_64.whl (1.2 MB)\n",
            "\u001b[2K   \u001b[90m━━━━━━━━━━━━━━━━━━━━━━━━━━━━━━━━━━━━━━━━\u001b[0m \u001b[32m1.2/1.2 MB\u001b[0m \u001b[31m15.9 MB/s\u001b[0m eta \u001b[36m0:00:00\u001b[0m\n",
            "\u001b[?25hDownloading dnspython-2.6.1-py3-none-any.whl (307 kB)\n",
            "\u001b[2K   \u001b[90m━━━━━━━━━━━━━━━━━━━━━━━━━━━━━━━━━━━━━━━━\u001b[0m \u001b[32m307.7/307.7 kB\u001b[0m \u001b[31m17.0 MB/s\u001b[0m eta \u001b[36m0:00:00\u001b[0m\n",
            "\u001b[?25hInstalling collected packages: dnspython, pymongo\n",
            "Successfully installed dnspython-2.6.1 pymongo-4.8.0\n"
          ]
        }
      ]
    },
    {
      "cell_type": "markdown",
      "id": "18a87e75",
      "metadata": {
        "id": "18a87e75"
      },
      "source": [
        "## Import libraries here"
      ]
    },
    {
      "cell_type": "code",
      "source": [
        "import requests\n",
        "from bs4 import BeautifulSoup\n",
        "import pandas as pd\n",
        "\n",
        "# Imports for saving data to database\n",
        "import pymongo\n",
        "from pymongo import MongoClient\n",
        "from pymongo.server_api import ServerApi\n",
        "import os"
      ],
      "metadata": {
        "id": "mO-MHn5Yv4E6"
      },
      "id": "mO-MHn5Yv4E6",
      "execution_count": null,
      "outputs": []
    },
    {
      "cell_type": "markdown",
      "id": "c7f9f606",
      "metadata": {
        "id": "c7f9f606"
      },
      "source": [
        "## Step 1: Send a request to the website"
      ]
    },
    {
      "cell_type": "code",
      "execution_count": null,
      "id": "8f4e3051",
      "metadata": {
        "id": "8f4e3051",
        "colab": {
          "base_uri": "https://localhost:8080/"
        },
        "outputId": "8270c540-80ce-4f3b-d991-1ed6d4675c41"
      },
      "outputs": [
        {
          "output_type": "stream",
          "name": "stdout",
          "text": [
            "True\n",
            "\n",
            "<!doctype html>\n",
            "<html lang=\"en-GB\">\n",
            "<head>\n",
            "<meta charset=\"UTF-8\">\n",
            "<meta name=\"viewport\" content=\"width=device-width, initial-scale=1, maximum-scale=2.0\">\n",
            "<link rel=\"profile\" href=\"http://gmpg.org/xfn/11\">\n",
            "<link rel=\"pingback\" href=\"https://scrapeme.live/xmlrpc.php\">\n",
            "\n",
            "<title>Products &#8211; ScrapeMe</title>\n",
            "<link rel='dns-prefetch' href='//fonts.googleapis.com' />\n",
            "<link rel='dns-prefetch' href='//s.w.org' />\n",
            "<link rel=\"alternate\" type=\"application/rss+xml\" title=\"ScrapeMe &raquo; Feed\" href=\"https://scrapeme.live/feed/\" />\n",
            "<link rel=\"alternate\" type=\"application/rss+xml\" title=\"ScrapeMe &raquo; Comments Feed\" href=\"https://scrapeme.live/comments/feed/\" />\n",
            "<link rel=\"alternate\" type=\"application/rss+xml\" title=\"ScrapeMe &raquo; Products Feed\" href=\"https://scrapeme.live/shop/feed/\" />\n",
            "\t\t<script type=\"text/javascript\">\n",
            "\t\t\twindow._wpemojiSettings = {\"baseUrl\":\"https:\\/\\/s.w.org\\/images\\/core\\/emoji\\/11\\/72x72\\/\",\"ext\":\".png\",\"svgUrl\":\"https:\\/\\/s.w.org\\/images\\/core\\/emoji\\/11\\/svg\\/\",\"s\n"
          ]
        }
      ],
      "source": [
        "# The url we want to scrap\n",
        "url = \"https://scrapeme.live/shop/\"\n",
        "\n",
        "res = requests.get(url)\n",
        "\n",
        "# Check the response is ok\n",
        "print(res.ok)\n",
        "\n",
        "# Print the first 1000 characters of the content\n",
        "print(res.text[:1000])"
      ]
    },
    {
      "cell_type": "markdown",
      "id": "71d1d25f",
      "metadata": {
        "id": "71d1d25f"
      },
      "source": [
        "## Step 2: Parse the HTML content of the page"
      ]
    },
    {
      "cell_type": "code",
      "execution_count": null,
      "id": "e2630791",
      "metadata": {
        "id": "e2630791",
        "colab": {
          "base_uri": "https://localhost:8080/"
        },
        "outputId": "d199ccb2-23f3-406a-c344-59ec2db400a2"
      },
      "outputs": [
        {
          "output_type": "stream",
          "name": "stdout",
          "text": [
            "<title>Products – ScrapeMe</title>\n",
            "<input class=\"search-field\" id=\"woocommerce-product-search-field-0\" name=\"s\" placeholder=\"Search products…\" type=\"search\" value=\"\"/>\n",
            "<input name=\"post_type\" type=\"hidden\" value=\"product\"/>\n",
            "<input name=\"paged\" type=\"hidden\" value=\"1\"/>\n",
            "<input name=\"paged\" type=\"hidden\" value=\"1\"/>\n",
            "<input class=\"search-field\" name=\"s\" placeholder=\"Search …\" type=\"search\" value=\"\"/>\n",
            "<input class=\"search-submit\" type=\"submit\" value=\"Search\"/>\n",
            "<input class=\"search-field\" id=\"woocommerce-product-search-field-1\" name=\"s\" placeholder=\"Search products…\" type=\"search\" value=\"\"/>\n",
            "<input name=\"post_type\" type=\"hidden\" value=\"product\"/>\n"
          ]
        }
      ],
      "source": [
        "soup = BeautifulSoup(res.text, \"html.parser\")\n",
        "\n",
        "\n",
        "# Print the page title:\n",
        "print(soup.title)\n",
        "\n",
        "\n",
        "for input in soup.find_all(\"input\"):\n",
        "  print(input)"
      ]
    },
    {
      "cell_type": "markdown",
      "id": "136215c4",
      "metadata": {
        "id": "136215c4"
      },
      "source": [
        "## Step 3: Inspect the website and identify the elements to scrape\n",
        "Inspect the website and identify the elements (e.g., product names, prices, etc.)."
      ]
    },
    {
      "cell_type": "code",
      "execution_count": null,
      "id": "162008b8",
      "metadata": {
        "id": "162008b8",
        "colab": {
          "base_uri": "https://localhost:8080/"
        },
        "outputId": "9bb9f744-5301-43e9-dd89-15223e744ed8",
        "collapsed": true
      },
      "outputs": [
        {
          "output_type": "stream",
          "name": "stdout",
          "text": [
            "\n",
            "\n",
            "<li class=\"post-759 product type-product status-publish has-post-thumbnail product_cat-pokemon product_cat-seed product_tag-bulbasaur product_tag-overgrow product_tag-seed first instock sold-individually taxable shipping-taxable purchasable product-type-simple\">\n",
            "<a class=\"woocommerce-LoopProduct-link woocommerce-loop-product__link\" href=\"https://scrapeme.live/shop/Bulbasaur/\"><img alt=\"\" class=\"attachment-woocommerce_thumbnail size-woocommerce_thumbnail wp-post-image\" height=\"324\" sizes=\"(max-width: 324px) 100vw, 324px\" src=\"https://scrapeme.live/wp-content/uploads/2018/08/001-350x350.png\" srcset=\"https://scrapeme.live/wp-content/uploads/2018/08/001-350x350.png 350w, https://scrapeme.live/wp-content/uploads/2018/08/001-150x150.png 150w, https://scrapeme.live/wp-content/uploads/2018/08/001-300x300.png 300w, https://scrapeme.live/wp-content/uploads/2018/08/001-100x100.png 100w, https://scrapeme.live/wp-content/uploads/2018/08/001-250x250.png 250w, https://scrapeme.live/wp-content/uploads/2018/08/001.png 475w\" width=\"324\"/><h2 class=\"woocommerce-loop-product__title\">Bulbasaur</h2>\n",
            "<span class=\"price\"><span class=\"woocommerce-Price-amount amount\"><span class=\"woocommerce-Price-currencySymbol\">£</span>63.00</span></span>\n",
            "</a><a aria-label=\"Add “Bulbasaur” to your basket\" class=\"button product_type_simple add_to_cart_button ajax_add_to_cart\" data-product_id=\"759\" data-product_sku=\"4391\" data-quantity=\"1\" href=\"/shop/?add-to-cart=759\" rel=\"nofollow\">Add to basket</a></li>\n",
            "\n",
            "\n",
            "<li class=\"post-729 product type-product status-publish has-post-thumbnail product_cat-pokemon product_cat-seed product_tag-ivysaur product_tag-overgrow product_tag-seed instock sold-individually taxable shipping-taxable purchasable product-type-simple\">\n",
            "<a class=\"woocommerce-LoopProduct-link woocommerce-loop-product__link\" href=\"https://scrapeme.live/shop/Ivysaur/\"><img alt=\"\" class=\"attachment-woocommerce_thumbnail size-woocommerce_thumbnail wp-post-image\" height=\"324\" sizes=\"(max-width: 324px) 100vw, 324px\" src=\"https://scrapeme.live/wp-content/uploads/2018/08/002-350x350.png\" srcset=\"https://scrapeme.live/wp-content/uploads/2018/08/002-350x350.png 350w, https://scrapeme.live/wp-content/uploads/2018/08/002-150x150.png 150w, https://scrapeme.live/wp-content/uploads/2018/08/002-300x300.png 300w, https://scrapeme.live/wp-content/uploads/2018/08/002-100x100.png 100w, https://scrapeme.live/wp-content/uploads/2018/08/002-250x250.png 250w, https://scrapeme.live/wp-content/uploads/2018/08/002.png 475w\" width=\"324\"/><h2 class=\"woocommerce-loop-product__title\">Ivysaur</h2>\n",
            "<span class=\"price\"><span class=\"woocommerce-Price-amount amount\"><span class=\"woocommerce-Price-currencySymbol\">£</span>87.00</span></span>\n",
            "</a><a aria-label=\"Add “Ivysaur” to your basket\" class=\"button product_type_simple add_to_cart_button ajax_add_to_cart\" data-product_id=\"729\" data-product_sku=\"7227\" data-quantity=\"1\" href=\"/shop/?add-to-cart=729\" rel=\"nofollow\">Add to basket</a></li>\n",
            "\n",
            "\n",
            "<li class=\"post-730 product type-product status-publish has-post-thumbnail product_cat-pokemon product_cat-seed product_tag-overgrow product_tag-seed product_tag-venusaur instock taxable shipping-taxable purchasable product-type-simple\">\n",
            "<a class=\"woocommerce-LoopProduct-link woocommerce-loop-product__link\" href=\"https://scrapeme.live/shop/Venusaur/\"><img alt=\"\" class=\"attachment-woocommerce_thumbnail size-woocommerce_thumbnail wp-post-image\" height=\"324\" sizes=\"(max-width: 324px) 100vw, 324px\" src=\"https://scrapeme.live/wp-content/uploads/2018/08/003-350x350.png\" srcset=\"https://scrapeme.live/wp-content/uploads/2018/08/003-350x350.png 350w, https://scrapeme.live/wp-content/uploads/2018/08/003-150x150.png 150w, https://scrapeme.live/wp-content/uploads/2018/08/003-300x300.png 300w, https://scrapeme.live/wp-content/uploads/2018/08/003-100x100.png 100w, https://scrapeme.live/wp-content/uploads/2018/08/003-250x250.png 250w, https://scrapeme.live/wp-content/uploads/2018/08/003.png 475w\" width=\"324\"/><h2 class=\"woocommerce-loop-product__title\">Venusaur</h2>\n",
            "<span class=\"price\"><span class=\"woocommerce-Price-amount amount\"><span class=\"woocommerce-Price-currencySymbol\">£</span>105.00</span></span>\n",
            "</a><a aria-label=\"Add “Venusaur” to your basket\" class=\"button product_type_simple add_to_cart_button ajax_add_to_cart\" data-product_id=\"730\" data-product_sku=\"7036\" data-quantity=\"1\" href=\"/shop/?add-to-cart=730\" rel=\"nofollow\">Add to basket</a></li>\n",
            "\n",
            "\n",
            "<li class=\"post-731 product type-product status-publish has-post-thumbnail product_cat-lizard product_cat-pokemon product_tag-blaze product_tag-charmander product_tag-lizard last instock sold-individually taxable shipping-taxable purchasable product-type-simple\">\n",
            "<a class=\"woocommerce-LoopProduct-link woocommerce-loop-product__link\" href=\"https://scrapeme.live/shop/Charmander/\"><img alt=\"\" class=\"attachment-woocommerce_thumbnail size-woocommerce_thumbnail wp-post-image\" height=\"324\" sizes=\"(max-width: 324px) 100vw, 324px\" src=\"https://scrapeme.live/wp-content/uploads/2018/08/004-350x350.png\" srcset=\"https://scrapeme.live/wp-content/uploads/2018/08/004-350x350.png 350w, https://scrapeme.live/wp-content/uploads/2018/08/004-150x150.png 150w, https://scrapeme.live/wp-content/uploads/2018/08/004-300x300.png 300w, https://scrapeme.live/wp-content/uploads/2018/08/004-100x100.png 100w, https://scrapeme.live/wp-content/uploads/2018/08/004-250x250.png 250w, https://scrapeme.live/wp-content/uploads/2018/08/004.png 475w\" width=\"324\"/><h2 class=\"woocommerce-loop-product__title\">Charmander</h2>\n",
            "<span class=\"price\"><span class=\"woocommerce-Price-amount amount\"><span class=\"woocommerce-Price-currencySymbol\">£</span>48.00</span></span>\n",
            "</a><a aria-label=\"Add “Charmander” to your basket\" class=\"button product_type_simple add_to_cart_button ajax_add_to_cart\" data-product_id=\"731\" data-product_sku=\"9086\" data-quantity=\"1\" href=\"/shop/?add-to-cart=731\" rel=\"nofollow\">Add to basket</a></li>\n",
            "\n",
            "\n",
            "<li class=\"post-732 product type-product status-publish has-post-thumbnail product_cat-flame product_cat-pokemon product_tag-blaze product_tag-charmeleon product_tag-flame first instock taxable shipping-taxable purchasable product-type-simple\">\n",
            "<a class=\"woocommerce-LoopProduct-link woocommerce-loop-product__link\" href=\"https://scrapeme.live/shop/Charmeleon/\"><img alt=\"\" class=\"attachment-woocommerce_thumbnail size-woocommerce_thumbnail wp-post-image\" height=\"324\" sizes=\"(max-width: 324px) 100vw, 324px\" src=\"https://scrapeme.live/wp-content/uploads/2018/08/005-350x350.png\" srcset=\"https://scrapeme.live/wp-content/uploads/2018/08/005-350x350.png 350w, https://scrapeme.live/wp-content/uploads/2018/08/005-150x150.png 150w, https://scrapeme.live/wp-content/uploads/2018/08/005-300x300.png 300w, https://scrapeme.live/wp-content/uploads/2018/08/005-100x100.png 100w, https://scrapeme.live/wp-content/uploads/2018/08/005-250x250.png 250w, https://scrapeme.live/wp-content/uploads/2018/08/005.png 475w\" width=\"324\"/><h2 class=\"woocommerce-loop-product__title\">Charmeleon</h2>\n",
            "<span class=\"price\"><span class=\"woocommerce-Price-amount amount\"><span class=\"woocommerce-Price-currencySymbol\">£</span>165.00</span></span>\n",
            "</a><a aria-label=\"Add “Charmeleon” to your basket\" class=\"button product_type_simple add_to_cart_button ajax_add_to_cart\" data-product_id=\"732\" data-product_sku=\"6565\" data-quantity=\"1\" href=\"/shop/?add-to-cart=732\" rel=\"nofollow\">Add to basket</a></li>\n",
            "\n",
            "\n",
            "<li class=\"post-733 product type-product status-publish has-post-thumbnail product_cat-flame product_cat-pokemon product_tag-blaze product_tag-charizard product_tag-flame instock sold-individually taxable shipping-taxable purchasable product-type-simple\">\n",
            "<a class=\"woocommerce-LoopProduct-link woocommerce-loop-product__link\" href=\"https://scrapeme.live/shop/Charizard/\"><img alt=\"\" class=\"attachment-woocommerce_thumbnail size-woocommerce_thumbnail wp-post-image\" height=\"324\" sizes=\"(max-width: 324px) 100vw, 324px\" src=\"https://scrapeme.live/wp-content/uploads/2018/08/006-350x350.png\" srcset=\"https://scrapeme.live/wp-content/uploads/2018/08/006-350x350.png 350w, https://scrapeme.live/wp-content/uploads/2018/08/006-150x150.png 150w, https://scrapeme.live/wp-content/uploads/2018/08/006-300x300.png 300w, https://scrapeme.live/wp-content/uploads/2018/08/006-100x100.png 100w, https://scrapeme.live/wp-content/uploads/2018/08/006-250x250.png 250w, https://scrapeme.live/wp-content/uploads/2018/08/006.png 475w\" width=\"324\"/><h2 class=\"woocommerce-loop-product__title\">Charizard</h2>\n",
            "<span class=\"price\"><span class=\"woocommerce-Price-amount amount\"><span class=\"woocommerce-Price-currencySymbol\">£</span>156.00</span></span>\n",
            "</a><a aria-label=\"Add “Charizard” to your basket\" class=\"button product_type_simple add_to_cart_button ajax_add_to_cart\" data-product_id=\"733\" data-product_sku=\"8840\" data-quantity=\"1\" href=\"/shop/?add-to-cart=733\" rel=\"nofollow\">Add to basket</a></li>\n",
            "\n",
            "\n",
            "<li class=\"post-734 product type-product status-publish has-post-thumbnail product_cat-pokemon product_cat-tiny-turtle product_tag-squirtle product_tag-tiny-turtle product_tag-torrent instock sold-individually taxable shipping-taxable purchasable product-type-simple\">\n",
            "<a class=\"woocommerce-LoopProduct-link woocommerce-loop-product__link\" href=\"https://scrapeme.live/shop/Squirtle/\"><img alt=\"\" class=\"attachment-woocommerce_thumbnail size-woocommerce_thumbnail wp-post-image\" height=\"324\" sizes=\"(max-width: 324px) 100vw, 324px\" src=\"https://scrapeme.live/wp-content/uploads/2018/08/007-350x350.png\" srcset=\"https://scrapeme.live/wp-content/uploads/2018/08/007-350x350.png 350w, https://scrapeme.live/wp-content/uploads/2018/08/007-150x150.png 150w, https://scrapeme.live/wp-content/uploads/2018/08/007-300x300.png 300w, https://scrapeme.live/wp-content/uploads/2018/08/007-100x100.png 100w, https://scrapeme.live/wp-content/uploads/2018/08/007-250x250.png 250w, https://scrapeme.live/wp-content/uploads/2018/08/007.png 475w\" width=\"324\"/><h2 class=\"woocommerce-loop-product__title\">Squirtle</h2>\n",
            "<span class=\"price\"><span class=\"woocommerce-Price-amount amount\"><span class=\"woocommerce-Price-currencySymbol\">£</span>130.00</span></span>\n",
            "</a><a aria-label=\"Add “Squirtle” to your basket\" class=\"button product_type_simple add_to_cart_button ajax_add_to_cart\" data-product_id=\"734\" data-product_sku=\"6094\" data-quantity=\"1\" href=\"/shop/?add-to-cart=734\" rel=\"nofollow\">Add to basket</a></li>\n",
            "\n",
            "\n",
            "<li class=\"post-735 product type-product status-publish has-post-thumbnail product_cat-pokemon product_cat-turtle product_tag-torrent product_tag-turtle product_tag-wartortle last instock sold-individually taxable shipping-taxable purchasable product-type-simple\">\n",
            "<a class=\"woocommerce-LoopProduct-link woocommerce-loop-product__link\" href=\"https://scrapeme.live/shop/Wartortle/\"><img alt=\"\" class=\"attachment-woocommerce_thumbnail size-woocommerce_thumbnail wp-post-image\" height=\"324\" sizes=\"(max-width: 324px) 100vw, 324px\" src=\"https://scrapeme.live/wp-content/uploads/2018/08/008-350x350.png\" srcset=\"https://scrapeme.live/wp-content/uploads/2018/08/008-350x350.png 350w, https://scrapeme.live/wp-content/uploads/2018/08/008-150x150.png 150w, https://scrapeme.live/wp-content/uploads/2018/08/008-300x300.png 300w, https://scrapeme.live/wp-content/uploads/2018/08/008-100x100.png 100w, https://scrapeme.live/wp-content/uploads/2018/08/008-250x250.png 250w, https://scrapeme.live/wp-content/uploads/2018/08/008.png 475w\" width=\"324\"/><h2 class=\"woocommerce-loop-product__title\">Wartortle</h2>\n",
            "<span class=\"price\"><span class=\"woocommerce-Price-amount amount\"><span class=\"woocommerce-Price-currencySymbol\">£</span>123.00</span></span>\n",
            "</a><a aria-label=\"Add “Wartortle” to your basket\" class=\"button product_type_simple add_to_cart_button ajax_add_to_cart\" data-product_id=\"735\" data-product_sku=\"9659\" data-quantity=\"1\" href=\"/shop/?add-to-cart=735\" rel=\"nofollow\">Add to basket</a></li>\n",
            "\n",
            "\n",
            "<li class=\"post-736 product type-product status-publish has-post-thumbnail product_cat-pokemon product_cat-shellfish product_tag-blastoise product_tag-shellfish product_tag-torrent first instock sold-individually taxable shipping-taxable purchasable product-type-simple\">\n",
            "<a class=\"woocommerce-LoopProduct-link woocommerce-loop-product__link\" href=\"https://scrapeme.live/shop/Blastoise/\"><img alt=\"\" class=\"attachment-woocommerce_thumbnail size-woocommerce_thumbnail wp-post-image\" height=\"324\" sizes=\"(max-width: 324px) 100vw, 324px\" src=\"https://scrapeme.live/wp-content/uploads/2018/08/009-350x350.png\" srcset=\"https://scrapeme.live/wp-content/uploads/2018/08/009-350x350.png 350w, https://scrapeme.live/wp-content/uploads/2018/08/009-150x150.png 150w, https://scrapeme.live/wp-content/uploads/2018/08/009-300x300.png 300w, https://scrapeme.live/wp-content/uploads/2018/08/009-100x100.png 100w, https://scrapeme.live/wp-content/uploads/2018/08/009-250x250.png 250w, https://scrapeme.live/wp-content/uploads/2018/08/009.png 475w\" width=\"324\"/><h2 class=\"woocommerce-loop-product__title\">Blastoise</h2>\n",
            "<span class=\"price\"><span class=\"woocommerce-Price-amount amount\"><span class=\"woocommerce-Price-currencySymbol\">£</span>76.00</span></span>\n",
            "</a><a aria-label=\"Add “Blastoise” to your basket\" class=\"button product_type_simple add_to_cart_button ajax_add_to_cart\" data-product_id=\"736\" data-product_sku=\"5212\" data-quantity=\"1\" href=\"/shop/?add-to-cart=736\" rel=\"nofollow\">Add to basket</a></li>\n",
            "\n",
            "\n",
            "<li class=\"post-737 product type-product status-publish has-post-thumbnail product_cat-pokemon product_cat-worm product_tag-caterpie product_tag-shield-dust product_tag-worm instock sold-individually taxable shipping-taxable purchasable product-type-simple\">\n",
            "<a class=\"woocommerce-LoopProduct-link woocommerce-loop-product__link\" href=\"https://scrapeme.live/shop/Caterpie/\"><img alt=\"\" class=\"attachment-woocommerce_thumbnail size-woocommerce_thumbnail wp-post-image\" height=\"324\" sizes=\"(max-width: 324px) 100vw, 324px\" src=\"https://scrapeme.live/wp-content/uploads/2018/08/010-350x350.png\" srcset=\"https://scrapeme.live/wp-content/uploads/2018/08/010-350x350.png 350w, https://scrapeme.live/wp-content/uploads/2018/08/010-150x150.png 150w, https://scrapeme.live/wp-content/uploads/2018/08/010-300x300.png 300w, https://scrapeme.live/wp-content/uploads/2018/08/010-100x100.png 100w, https://scrapeme.live/wp-content/uploads/2018/08/010-250x250.png 250w, https://scrapeme.live/wp-content/uploads/2018/08/010.png 475w\" width=\"324\"/><h2 class=\"woocommerce-loop-product__title\">Caterpie</h2>\n",
            "<span class=\"price\"><span class=\"woocommerce-Price-amount amount\"><span class=\"woocommerce-Price-currencySymbol\">£</span>73.00</span></span>\n",
            "</a><a aria-label=\"Add “Caterpie” to your basket\" class=\"button product_type_simple add_to_cart_button ajax_add_to_cart\" data-product_id=\"737\" data-product_sku=\"7492\" data-quantity=\"1\" href=\"/shop/?add-to-cart=737\" rel=\"nofollow\">Add to basket</a></li>\n",
            "\n",
            "\n",
            "<li class=\"post-738 product type-product status-publish has-post-thumbnail product_cat-cocoon product_cat-pokemon product_tag-cocoon product_tag-metapod product_tag-shed-skin instock taxable shipping-taxable purchasable product-type-simple\">\n",
            "<a class=\"woocommerce-LoopProduct-link woocommerce-loop-product__link\" href=\"https://scrapeme.live/shop/Metapod/\"><img alt=\"\" class=\"attachment-woocommerce_thumbnail size-woocommerce_thumbnail wp-post-image\" height=\"324\" sizes=\"(max-width: 324px) 100vw, 324px\" src=\"https://scrapeme.live/wp-content/uploads/2018/08/011-350x350.png\" srcset=\"https://scrapeme.live/wp-content/uploads/2018/08/011-350x350.png 350w, https://scrapeme.live/wp-content/uploads/2018/08/011-150x150.png 150w, https://scrapeme.live/wp-content/uploads/2018/08/011-300x300.png 300w, https://scrapeme.live/wp-content/uploads/2018/08/011-100x100.png 100w, https://scrapeme.live/wp-content/uploads/2018/08/011-250x250.png 250w, https://scrapeme.live/wp-content/uploads/2018/08/011.png 475w\" width=\"324\"/><h2 class=\"woocommerce-loop-product__title\">Metapod</h2>\n",
            "<span class=\"price\"><span class=\"woocommerce-Price-amount amount\"><span class=\"woocommerce-Price-currencySymbol\">£</span>148.00</span></span>\n",
            "</a><a aria-label=\"Add “Metapod” to your basket\" class=\"button product_type_simple add_to_cart_button ajax_add_to_cart\" data-product_id=\"738\" data-product_sku=\"2072\" data-quantity=\"1\" href=\"/shop/?add-to-cart=738\" rel=\"nofollow\">Add to basket</a></li>\n",
            "\n",
            "\n",
            "<li class=\"post-739 product type-product status-publish has-post-thumbnail product_cat-butterfly product_cat-pokemon product_tag-butterfly product_tag-butterfree product_tag-compound-eyes last instock sold-individually taxable shipping-taxable purchasable product-type-simple\">\n",
            "<a class=\"woocommerce-LoopProduct-link woocommerce-loop-product__link\" href=\"https://scrapeme.live/shop/Butterfree/\"><img alt=\"\" class=\"attachment-woocommerce_thumbnail size-woocommerce_thumbnail wp-post-image\" height=\"324\" sizes=\"(max-width: 324px) 100vw, 324px\" src=\"https://scrapeme.live/wp-content/uploads/2018/08/012-350x350.png\" srcset=\"https://scrapeme.live/wp-content/uploads/2018/08/012-350x350.png 350w, https://scrapeme.live/wp-content/uploads/2018/08/012-150x150.png 150w, https://scrapeme.live/wp-content/uploads/2018/08/012-300x300.png 300w, https://scrapeme.live/wp-content/uploads/2018/08/012-100x100.png 100w, https://scrapeme.live/wp-content/uploads/2018/08/012-250x250.png 250w, https://scrapeme.live/wp-content/uploads/2018/08/012.png 475w\" width=\"324\"/><h2 class=\"woocommerce-loop-product__title\">Butterfree</h2>\n",
            "<span class=\"price\"><span class=\"woocommerce-Price-amount amount\"><span class=\"woocommerce-Price-currencySymbol\">£</span>162.00</span></span>\n",
            "</a><a aria-label=\"Add “Butterfree” to your basket\" class=\"button product_type_simple add_to_cart_button ajax_add_to_cart\" data-product_id=\"739\" data-product_sku=\"9507\" data-quantity=\"1\" href=\"/shop/?add-to-cart=739\" rel=\"nofollow\">Add to basket</a></li>\n",
            "\n",
            "\n",
            "<li class=\"post-740 product type-product status-publish has-post-thumbnail product_cat-hairy-bug product_cat-pokemon product_tag-hairy-bug product_tag-shield-dust product_tag-weedle first instock taxable shipping-taxable purchasable product-type-simple\">\n",
            "<a class=\"woocommerce-LoopProduct-link woocommerce-loop-product__link\" href=\"https://scrapeme.live/shop/Weedle/\"><img alt=\"\" class=\"attachment-woocommerce_thumbnail size-woocommerce_thumbnail wp-post-image\" height=\"324\" sizes=\"(max-width: 324px) 100vw, 324px\" src=\"https://scrapeme.live/wp-content/uploads/2018/08/013-350x350.png\" srcset=\"https://scrapeme.live/wp-content/uploads/2018/08/013-350x350.png 350w, https://scrapeme.live/wp-content/uploads/2018/08/013-150x150.png 150w, https://scrapeme.live/wp-content/uploads/2018/08/013-300x300.png 300w, https://scrapeme.live/wp-content/uploads/2018/08/013-100x100.png 100w, https://scrapeme.live/wp-content/uploads/2018/08/013-250x250.png 250w, https://scrapeme.live/wp-content/uploads/2018/08/013.png 475w\" width=\"324\"/><h2 class=\"woocommerce-loop-product__title\">Weedle</h2>\n",
            "<span class=\"price\"><span class=\"woocommerce-Price-amount amount\"><span class=\"woocommerce-Price-currencySymbol\">£</span>25.00</span></span>\n",
            "</a><a aria-label=\"Add “Weedle” to your basket\" class=\"button product_type_simple add_to_cart_button ajax_add_to_cart\" data-product_id=\"740\" data-product_sku=\"7525\" data-quantity=\"1\" href=\"/shop/?add-to-cart=740\" rel=\"nofollow\">Add to basket</a></li>\n",
            "\n",
            "\n",
            "<li class=\"post-741 product type-product status-publish has-post-thumbnail product_cat-cocoon product_cat-pokemon product_tag-cocoon product_tag-kakuna product_tag-shed-skin instock taxable shipping-taxable purchasable product-type-simple\">\n",
            "<a class=\"woocommerce-LoopProduct-link woocommerce-loop-product__link\" href=\"https://scrapeme.live/shop/Kakuna/\"><img alt=\"\" class=\"attachment-woocommerce_thumbnail size-woocommerce_thumbnail wp-post-image\" height=\"324\" sizes=\"(max-width: 324px) 100vw, 324px\" src=\"https://scrapeme.live/wp-content/uploads/2018/08/014-350x350.png\" srcset=\"https://scrapeme.live/wp-content/uploads/2018/08/014-350x350.png 350w, https://scrapeme.live/wp-content/uploads/2018/08/014-150x150.png 150w, https://scrapeme.live/wp-content/uploads/2018/08/014-300x300.png 300w, https://scrapeme.live/wp-content/uploads/2018/08/014-100x100.png 100w, https://scrapeme.live/wp-content/uploads/2018/08/014-250x250.png 250w, https://scrapeme.live/wp-content/uploads/2018/08/014.png 475w\" width=\"324\"/><h2 class=\"woocommerce-loop-product__title\">Kakuna</h2>\n",
            "<span class=\"price\"><span class=\"woocommerce-Price-amount amount\"><span class=\"woocommerce-Price-currencySymbol\">£</span>148.00</span></span>\n",
            "</a><a aria-label=\"Add “Kakuna” to your basket\" class=\"button product_type_simple add_to_cart_button ajax_add_to_cart\" data-product_id=\"741\" data-product_sku=\"1049\" data-quantity=\"1\" href=\"/shop/?add-to-cart=741\" rel=\"nofollow\">Add to basket</a></li>\n",
            "\n",
            "\n",
            "<li class=\"post-742 product type-product status-publish has-post-thumbnail product_cat-poison-bee product_cat-pokemon product_tag-beedrill product_tag-poison-bee product_tag-swarm instock sold-individually taxable shipping-taxable purchasable product-type-simple\">\n",
            "<a class=\"woocommerce-LoopProduct-link woocommerce-loop-product__link\" href=\"https://scrapeme.live/shop/Beedrill/\"><img alt=\"\" class=\"attachment-woocommerce_thumbnail size-woocommerce_thumbnail wp-post-image\" height=\"324\" sizes=\"(max-width: 324px) 100vw, 324px\" src=\"https://scrapeme.live/wp-content/uploads/2018/08/015-350x350.png\" srcset=\"https://scrapeme.live/wp-content/uploads/2018/08/015-350x350.png 350w, https://scrapeme.live/wp-content/uploads/2018/08/015-150x150.png 150w, https://scrapeme.live/wp-content/uploads/2018/08/015-300x300.png 300w, https://scrapeme.live/wp-content/uploads/2018/08/015-100x100.png 100w, https://scrapeme.live/wp-content/uploads/2018/08/015-250x250.png 250w, https://scrapeme.live/wp-content/uploads/2018/08/015.png 475w\" width=\"324\"/><h2 class=\"woocommerce-loop-product__title\">Beedrill</h2>\n",
            "<span class=\"price\"><span class=\"woocommerce-Price-amount amount\"><span class=\"woocommerce-Price-currencySymbol\">£</span>168.00</span></span>\n",
            "</a><a aria-label=\"Add “Beedrill” to your basket\" class=\"button product_type_simple add_to_cart_button ajax_add_to_cart\" data-product_id=\"742\" data-product_sku=\"6542\" data-quantity=\"1\" href=\"/shop/?add-to-cart=742\" rel=\"nofollow\">Add to basket</a></li>\n",
            "\n",
            "\n",
            "<li class=\"post-743 product type-product status-publish has-post-thumbnail product_cat-pokemon product_cat-tiny-bird product_tag-keen-eye product_tag-pidgey product_tag-tiny-bird last instock sold-individually taxable shipping-taxable purchasable product-type-simple\">\n",
            "<a class=\"woocommerce-LoopProduct-link woocommerce-loop-product__link\" href=\"https://scrapeme.live/shop/Pidgey/\"><img alt=\"\" class=\"attachment-woocommerce_thumbnail size-woocommerce_thumbnail wp-post-image\" height=\"324\" sizes=\"(max-width: 324px) 100vw, 324px\" src=\"https://scrapeme.live/wp-content/uploads/2018/08/016-350x350.png\" srcset=\"https://scrapeme.live/wp-content/uploads/2018/08/016-350x350.png 350w, https://scrapeme.live/wp-content/uploads/2018/08/016-150x150.png 150w, https://scrapeme.live/wp-content/uploads/2018/08/016-300x300.png 300w, https://scrapeme.live/wp-content/uploads/2018/08/016-100x100.png 100w, https://scrapeme.live/wp-content/uploads/2018/08/016-250x250.png 250w, https://scrapeme.live/wp-content/uploads/2018/08/016.png 475w\" width=\"324\"/><h2 class=\"woocommerce-loop-product__title\">Pidgey</h2>\n",
            "<span class=\"price\"><span class=\"woocommerce-Price-amount amount\"><span class=\"woocommerce-Price-currencySymbol\">£</span>159.00</span></span>\n",
            "</a><a aria-label=\"Add “Pidgey” to your basket\" class=\"button product_type_simple add_to_cart_button ajax_add_to_cart\" data-product_id=\"743\" data-product_sku=\"9452\" data-quantity=\"1\" href=\"/shop/?add-to-cart=743\" rel=\"nofollow\">Add to basket</a></li>\n",
            "\n",
            "\n"
          ]
        }
      ],
      "source": [
        "products = soup.find(name=\"ul\", attrs={\n",
        "    \"class\": \"products\"\n",
        "})\n",
        "\n",
        "\n",
        "for product in products:\n",
        "  print(product)\n"
      ]
    },
    {
      "cell_type": "markdown",
      "id": "64e51da7",
      "metadata": {
        "id": "64e51da7"
      },
      "source": [
        "## Step 4: Extract the desired data"
      ]
    },
    {
      "cell_type": "code",
      "execution_count": null,
      "id": "06b9477d",
      "metadata": {
        "id": "06b9477d",
        "colab": {
          "base_uri": "https://localhost:8080/"
        },
        "outputId": "406d765b-35d6-4454-e11e-ef54affabed8"
      },
      "outputs": [
        {
          "output_type": "stream",
          "name": "stdout",
          "text": [
            "Product Info:\n",
            "Name: Bulbasaur\n",
            "Price: £63.00\n",
            "--------------------------\n",
            "Product Info:\n",
            "Name: Ivysaur\n",
            "Price: £87.00\n",
            "--------------------------\n",
            "Product Info:\n",
            "Name: Venusaur\n",
            "Price: £105.00\n",
            "--------------------------\n",
            "Product Info:\n",
            "Name: Charmander\n",
            "Price: £48.00\n",
            "--------------------------\n",
            "Product Info:\n",
            "Name: Charmeleon\n",
            "Price: £165.00\n",
            "--------------------------\n",
            "Product Info:\n",
            "Name: Charizard\n",
            "Price: £156.00\n",
            "--------------------------\n",
            "Product Info:\n",
            "Name: Squirtle\n",
            "Price: £130.00\n",
            "--------------------------\n",
            "Product Info:\n",
            "Name: Wartortle\n",
            "Price: £123.00\n",
            "--------------------------\n",
            "Product Info:\n",
            "Name: Blastoise\n",
            "Price: £76.00\n",
            "--------------------------\n",
            "Product Info:\n",
            "Name: Caterpie\n",
            "Price: £73.00\n",
            "--------------------------\n",
            "Product Info:\n",
            "Name: Metapod\n",
            "Price: £148.00\n",
            "--------------------------\n",
            "Product Info:\n",
            "Name: Butterfree\n",
            "Price: £162.00\n",
            "--------------------------\n",
            "Product Info:\n",
            "Name: Weedle\n",
            "Price: £25.00\n",
            "--------------------------\n",
            "Product Info:\n",
            "Name: Kakuna\n",
            "Price: £148.00\n",
            "--------------------------\n",
            "Product Info:\n",
            "Name: Beedrill\n",
            "Price: £168.00\n",
            "--------------------------\n",
            "Product Info:\n",
            "Name: Pidgey\n",
            "Price: £159.00\n",
            "--------------------------\n"
          ]
        }
      ],
      "source": [
        "# Print some of the products\n",
        "for product in products:\n",
        "  if product.find(\"h2\") != -1:\n",
        "    print(\"Product Info:\")\n",
        "    print(\"Name:\", product.find(\"h2\").text)\n",
        "    print(\"Price:\", product.find(\"span\").text)\n",
        "    print(\"--------------------------\")"
      ]
    },
    {
      "cell_type": "markdown",
      "id": "ebe02982",
      "metadata": {
        "id": "ebe02982"
      },
      "source": [
        "## Step 5: Create a DataFrame to store the extracted data"
      ]
    },
    {
      "cell_type": "code",
      "execution_count": null,
      "id": "df0dfe22",
      "metadata": {
        "id": "df0dfe22"
      },
      "outputs": [],
      "source": [
        "products_dict = {\n",
        "    \"product_name\": [],\n",
        "    \"product_price\": [],\n",
        "}\n",
        "\n",
        "for product in products:\n",
        "  if product.find(\"h2\") != -1:\n",
        "    name = product.find(\"h2\").text\n",
        "    price = product.find(\"span\").text\n",
        "    products_dict[\"product_name\"].append(name)\n",
        "    products_dict[\"product_price\"].append(price)\n",
        "\n",
        "products_df = pd.DataFrame(data=products_dict)"
      ]
    },
    {
      "cell_type": "markdown",
      "id": "a7fb0de6",
      "metadata": {
        "id": "a7fb0de6"
      },
      "source": [
        "## Step 6: Save the data to a CSV file"
      ]
    },
    {
      "cell_type": "code",
      "execution_count": null,
      "id": "24e44e64",
      "metadata": {
        "id": "24e44e64"
      },
      "outputs": [],
      "source": [
        "products_df.to_csv(\"products.csv\")"
      ]
    },
    {
      "cell_type": "markdown",
      "id": "ee480802",
      "metadata": {
        "id": "ee480802"
      },
      "source": [
        "## Step 7: Print the DataFrame to verify the extracted data"
      ]
    },
    {
      "cell_type": "code",
      "execution_count": null,
      "id": "bee5d07c",
      "metadata": {
        "id": "bee5d07c",
        "colab": {
          "base_uri": "https://localhost:8080/",
          "height": 206
        },
        "outputId": "54639767-3a76-4ea9-a143-e972a6aec8b9"
      },
      "outputs": [
        {
          "output_type": "execute_result",
          "data": {
            "text/plain": [
              "  product_name product_price\n",
              "0    Bulbasaur        £63.00\n",
              "1      Ivysaur        £87.00\n",
              "2     Venusaur       £105.00\n",
              "3   Charmander        £48.00\n",
              "4   Charmeleon       £165.00"
            ],
            "text/html": [
              "\n",
              "  <div id=\"df-e6c67e66-ae60-4101-b21c-e6456a778064\" class=\"colab-df-container\">\n",
              "    <div>\n",
              "<style scoped>\n",
              "    .dataframe tbody tr th:only-of-type {\n",
              "        vertical-align: middle;\n",
              "    }\n",
              "\n",
              "    .dataframe tbody tr th {\n",
              "        vertical-align: top;\n",
              "    }\n",
              "\n",
              "    .dataframe thead th {\n",
              "        text-align: right;\n",
              "    }\n",
              "</style>\n",
              "<table border=\"1\" class=\"dataframe\">\n",
              "  <thead>\n",
              "    <tr style=\"text-align: right;\">\n",
              "      <th></th>\n",
              "      <th>product_name</th>\n",
              "      <th>product_price</th>\n",
              "    </tr>\n",
              "  </thead>\n",
              "  <tbody>\n",
              "    <tr>\n",
              "      <th>0</th>\n",
              "      <td>Bulbasaur</td>\n",
              "      <td>£63.00</td>\n",
              "    </tr>\n",
              "    <tr>\n",
              "      <th>1</th>\n",
              "      <td>Ivysaur</td>\n",
              "      <td>£87.00</td>\n",
              "    </tr>\n",
              "    <tr>\n",
              "      <th>2</th>\n",
              "      <td>Venusaur</td>\n",
              "      <td>£105.00</td>\n",
              "    </tr>\n",
              "    <tr>\n",
              "      <th>3</th>\n",
              "      <td>Charmander</td>\n",
              "      <td>£48.00</td>\n",
              "    </tr>\n",
              "    <tr>\n",
              "      <th>4</th>\n",
              "      <td>Charmeleon</td>\n",
              "      <td>£165.00</td>\n",
              "    </tr>\n",
              "  </tbody>\n",
              "</table>\n",
              "</div>\n",
              "    <div class=\"colab-df-buttons\">\n",
              "\n",
              "  <div class=\"colab-df-container\">\n",
              "    <button class=\"colab-df-convert\" onclick=\"convertToInteractive('df-e6c67e66-ae60-4101-b21c-e6456a778064')\"\n",
              "            title=\"Convert this dataframe to an interactive table.\"\n",
              "            style=\"display:none;\">\n",
              "\n",
              "  <svg xmlns=\"http://www.w3.org/2000/svg\" height=\"24px\" viewBox=\"0 -960 960 960\">\n",
              "    <path d=\"M120-120v-720h720v720H120Zm60-500h600v-160H180v160Zm220 220h160v-160H400v160Zm0 220h160v-160H400v160ZM180-400h160v-160H180v160Zm440 0h160v-160H620v160ZM180-180h160v-160H180v160Zm440 0h160v-160H620v160Z\"/>\n",
              "  </svg>\n",
              "    </button>\n",
              "\n",
              "  <style>\n",
              "    .colab-df-container {\n",
              "      display:flex;\n",
              "      gap: 12px;\n",
              "    }\n",
              "\n",
              "    .colab-df-convert {\n",
              "      background-color: #E8F0FE;\n",
              "      border: none;\n",
              "      border-radius: 50%;\n",
              "      cursor: pointer;\n",
              "      display: none;\n",
              "      fill: #1967D2;\n",
              "      height: 32px;\n",
              "      padding: 0 0 0 0;\n",
              "      width: 32px;\n",
              "    }\n",
              "\n",
              "    .colab-df-convert:hover {\n",
              "      background-color: #E2EBFA;\n",
              "      box-shadow: 0px 1px 2px rgba(60, 64, 67, 0.3), 0px 1px 3px 1px rgba(60, 64, 67, 0.15);\n",
              "      fill: #174EA6;\n",
              "    }\n",
              "\n",
              "    .colab-df-buttons div {\n",
              "      margin-bottom: 4px;\n",
              "    }\n",
              "\n",
              "    [theme=dark] .colab-df-convert {\n",
              "      background-color: #3B4455;\n",
              "      fill: #D2E3FC;\n",
              "    }\n",
              "\n",
              "    [theme=dark] .colab-df-convert:hover {\n",
              "      background-color: #434B5C;\n",
              "      box-shadow: 0px 1px 3px 1px rgba(0, 0, 0, 0.15);\n",
              "      filter: drop-shadow(0px 1px 2px rgba(0, 0, 0, 0.3));\n",
              "      fill: #FFFFFF;\n",
              "    }\n",
              "  </style>\n",
              "\n",
              "    <script>\n",
              "      const buttonEl =\n",
              "        document.querySelector('#df-e6c67e66-ae60-4101-b21c-e6456a778064 button.colab-df-convert');\n",
              "      buttonEl.style.display =\n",
              "        google.colab.kernel.accessAllowed ? 'block' : 'none';\n",
              "\n",
              "      async function convertToInteractive(key) {\n",
              "        const element = document.querySelector('#df-e6c67e66-ae60-4101-b21c-e6456a778064');\n",
              "        const dataTable =\n",
              "          await google.colab.kernel.invokeFunction('convertToInteractive',\n",
              "                                                    [key], {});\n",
              "        if (!dataTable) return;\n",
              "\n",
              "        const docLinkHtml = 'Like what you see? Visit the ' +\n",
              "          '<a target=\"_blank\" href=https://colab.research.google.com/notebooks/data_table.ipynb>data table notebook</a>'\n",
              "          + ' to learn more about interactive tables.';\n",
              "        element.innerHTML = '';\n",
              "        dataTable['output_type'] = 'display_data';\n",
              "        await google.colab.output.renderOutput(dataTable, element);\n",
              "        const docLink = document.createElement('div');\n",
              "        docLink.innerHTML = docLinkHtml;\n",
              "        element.appendChild(docLink);\n",
              "      }\n",
              "    </script>\n",
              "  </div>\n",
              "\n",
              "\n",
              "<div id=\"df-0cc7b407-0b91-4428-87f5-c6baa97c9bc3\">\n",
              "  <button class=\"colab-df-quickchart\" onclick=\"quickchart('df-0cc7b407-0b91-4428-87f5-c6baa97c9bc3')\"\n",
              "            title=\"Suggest charts\"\n",
              "            style=\"display:none;\">\n",
              "\n",
              "<svg xmlns=\"http://www.w3.org/2000/svg\" height=\"24px\"viewBox=\"0 0 24 24\"\n",
              "     width=\"24px\">\n",
              "    <g>\n",
              "        <path d=\"M19 3H5c-1.1 0-2 .9-2 2v14c0 1.1.9 2 2 2h14c1.1 0 2-.9 2-2V5c0-1.1-.9-2-2-2zM9 17H7v-7h2v7zm4 0h-2V7h2v10zm4 0h-2v-4h2v4z\"/>\n",
              "    </g>\n",
              "</svg>\n",
              "  </button>\n",
              "\n",
              "<style>\n",
              "  .colab-df-quickchart {\n",
              "      --bg-color: #E8F0FE;\n",
              "      --fill-color: #1967D2;\n",
              "      --hover-bg-color: #E2EBFA;\n",
              "      --hover-fill-color: #174EA6;\n",
              "      --disabled-fill-color: #AAA;\n",
              "      --disabled-bg-color: #DDD;\n",
              "  }\n",
              "\n",
              "  [theme=dark] .colab-df-quickchart {\n",
              "      --bg-color: #3B4455;\n",
              "      --fill-color: #D2E3FC;\n",
              "      --hover-bg-color: #434B5C;\n",
              "      --hover-fill-color: #FFFFFF;\n",
              "      --disabled-bg-color: #3B4455;\n",
              "      --disabled-fill-color: #666;\n",
              "  }\n",
              "\n",
              "  .colab-df-quickchart {\n",
              "    background-color: var(--bg-color);\n",
              "    border: none;\n",
              "    border-radius: 50%;\n",
              "    cursor: pointer;\n",
              "    display: none;\n",
              "    fill: var(--fill-color);\n",
              "    height: 32px;\n",
              "    padding: 0;\n",
              "    width: 32px;\n",
              "  }\n",
              "\n",
              "  .colab-df-quickchart:hover {\n",
              "    background-color: var(--hover-bg-color);\n",
              "    box-shadow: 0 1px 2px rgba(60, 64, 67, 0.3), 0 1px 3px 1px rgba(60, 64, 67, 0.15);\n",
              "    fill: var(--button-hover-fill-color);\n",
              "  }\n",
              "\n",
              "  .colab-df-quickchart-complete:disabled,\n",
              "  .colab-df-quickchart-complete:disabled:hover {\n",
              "    background-color: var(--disabled-bg-color);\n",
              "    fill: var(--disabled-fill-color);\n",
              "    box-shadow: none;\n",
              "  }\n",
              "\n",
              "  .colab-df-spinner {\n",
              "    border: 2px solid var(--fill-color);\n",
              "    border-color: transparent;\n",
              "    border-bottom-color: var(--fill-color);\n",
              "    animation:\n",
              "      spin 1s steps(1) infinite;\n",
              "  }\n",
              "\n",
              "  @keyframes spin {\n",
              "    0% {\n",
              "      border-color: transparent;\n",
              "      border-bottom-color: var(--fill-color);\n",
              "      border-left-color: var(--fill-color);\n",
              "    }\n",
              "    20% {\n",
              "      border-color: transparent;\n",
              "      border-left-color: var(--fill-color);\n",
              "      border-top-color: var(--fill-color);\n",
              "    }\n",
              "    30% {\n",
              "      border-color: transparent;\n",
              "      border-left-color: var(--fill-color);\n",
              "      border-top-color: var(--fill-color);\n",
              "      border-right-color: var(--fill-color);\n",
              "    }\n",
              "    40% {\n",
              "      border-color: transparent;\n",
              "      border-right-color: var(--fill-color);\n",
              "      border-top-color: var(--fill-color);\n",
              "    }\n",
              "    60% {\n",
              "      border-color: transparent;\n",
              "      border-right-color: var(--fill-color);\n",
              "    }\n",
              "    80% {\n",
              "      border-color: transparent;\n",
              "      border-right-color: var(--fill-color);\n",
              "      border-bottom-color: var(--fill-color);\n",
              "    }\n",
              "    90% {\n",
              "      border-color: transparent;\n",
              "      border-bottom-color: var(--fill-color);\n",
              "    }\n",
              "  }\n",
              "</style>\n",
              "\n",
              "  <script>\n",
              "    async function quickchart(key) {\n",
              "      const quickchartButtonEl =\n",
              "        document.querySelector('#' + key + ' button');\n",
              "      quickchartButtonEl.disabled = true;  // To prevent multiple clicks.\n",
              "      quickchartButtonEl.classList.add('colab-df-spinner');\n",
              "      try {\n",
              "        const charts = await google.colab.kernel.invokeFunction(\n",
              "            'suggestCharts', [key], {});\n",
              "      } catch (error) {\n",
              "        console.error('Error during call to suggestCharts:', error);\n",
              "      }\n",
              "      quickchartButtonEl.classList.remove('colab-df-spinner');\n",
              "      quickchartButtonEl.classList.add('colab-df-quickchart-complete');\n",
              "    }\n",
              "    (() => {\n",
              "      let quickchartButtonEl =\n",
              "        document.querySelector('#df-0cc7b407-0b91-4428-87f5-c6baa97c9bc3 button');\n",
              "      quickchartButtonEl.style.display =\n",
              "        google.colab.kernel.accessAllowed ? 'block' : 'none';\n",
              "    })();\n",
              "  </script>\n",
              "</div>\n",
              "\n",
              "    </div>\n",
              "  </div>\n"
            ],
            "application/vnd.google.colaboratory.intrinsic+json": {
              "type": "dataframe",
              "variable_name": "products_df",
              "summary": "{\n  \"name\": \"products_df\",\n  \"rows\": 16,\n  \"fields\": [\n    {\n      \"column\": \"product_name\",\n      \"properties\": {\n        \"dtype\": \"string\",\n        \"num_unique_values\": 16,\n        \"samples\": [\n          \"Bulbasaur\",\n          \"Ivysaur\",\n          \"Charizard\"\n        ],\n        \"semantic_type\": \"\",\n        \"description\": \"\"\n      }\n    },\n    {\n      \"column\": \"product_price\",\n      \"properties\": {\n        \"dtype\": \"string\",\n        \"num_unique_values\": 15,\n        \"samples\": [\n          \"\\u00a373.00\",\n          \"\\u00a3162.00\",\n          \"\\u00a363.00\"\n        ],\n        \"semantic_type\": \"\",\n        \"description\": \"\"\n      }\n    }\n  ]\n}"
            }
          },
          "metadata": {},
          "execution_count": 23
        }
      ],
      "source": [
        "\n",
        "products_df.head()\n"
      ]
    },
    {
      "cell_type": "markdown",
      "id": "ea5dc916",
      "metadata": {
        "id": "ea5dc916"
      },
      "source": [
        "## Step 8: Save the data to a database of your choice. If you are using MongoDB, include the code here."
      ]
    },
    {
      "cell_type": "markdown",
      "source": [
        "### Connecting to mongo"
      ],
      "metadata": {
        "id": "11Ibm4javZxz"
      },
      "id": "11Ibm4javZxz"
    },
    {
      "cell_type": "code",
      "execution_count": null,
      "id": "ec9b8a29",
      "metadata": {
        "id": "ec9b8a29",
        "colab": {
          "base_uri": "https://localhost:8080/"
        },
        "outputId": "aa857ba7-f3ab-4445-c2b5-503edb5bd305"
      },
      "outputs": [
        {
          "output_type": "stream",
          "name": "stdout",
          "text": [
            "Pinged your deployment. You successfully connected to MongoDB!\n"
          ]
        }
      ],
      "source": [
        "\n",
        "uri = \"MONGO_CONNECTION_STRING\"\n",
        "\n",
        "# Create a new client and connect to the server\n",
        "client = MongoClient(uri, server_api=ServerApi('1'))\n",
        "\n",
        "# Send a ping to confirm a successful connection\n",
        "try:\n",
        "    client.admin.command('ping')\n",
        "    print(\"Pinged your deployment. You successfully connected to MongoDB!\")\n",
        "except Exception as e:\n",
        "    print(e)\n",
        "\n",
        "\n"
      ]
    },
    {
      "cell_type": "code",
      "source": [
        "# Connect to MongoDB\n",
        "\n",
        "client = MongoClient(\"MONGO_CONNECTION_STRING\")\n",
        "\n",
        "# Create a database\n",
        "db = client['T5Bootcamp']\n",
        "\n",
        "# Create a collection\n",
        "scrapeme_coll = db['web_scraping_']"
      ],
      "metadata": {
        "id": "IRFpaSM4wDOs"
      },
      "id": "IRFpaSM4wDOs",
      "execution_count": null,
      "outputs": []
    },
    {
      "cell_type": "markdown",
      "source": [
        "### Store data to mongodb"
      ],
      "metadata": {
        "id": "TWE4ytGPw1EA"
      },
      "id": "TWE4ytGPw1EA"
    },
    {
      "cell_type": "code",
      "source": [
        "# Converting the dataframe to an array of dictionary so we can then store them in the database\n",
        "products_in_dict = products_df.to_dict(\"records\")\n",
        "scrapeme_coll.insert_many(products_in_dict)"
      ],
      "metadata": {
        "colab": {
          "base_uri": "https://localhost:8080/"
        },
        "id": "mt2JJLBDw0xu",
        "outputId": "c0c1b364-8ae1-4391-8a27-d704c449737a"
      },
      "id": "mt2JJLBDw0xu",
      "execution_count": null,
      "outputs": [
        {
          "output_type": "execute_result",
          "data": {
            "text/plain": [
              "InsertManyResult([ObjectId('66b096bab20a795fcbac00a8'), ObjectId('66b096bab20a795fcbac00a9'), ObjectId('66b096bab20a795fcbac00aa'), ObjectId('66b096bab20a795fcbac00ab'), ObjectId('66b096bab20a795fcbac00ac'), ObjectId('66b096bab20a795fcbac00ad'), ObjectId('66b096bab20a795fcbac00ae'), ObjectId('66b096bab20a795fcbac00af'), ObjectId('66b096bab20a795fcbac00b0'), ObjectId('66b096bab20a795fcbac00b1'), ObjectId('66b096bab20a795fcbac00b2'), ObjectId('66b096bab20a795fcbac00b3'), ObjectId('66b096bab20a795fcbac00b4'), ObjectId('66b096bab20a795fcbac00b5'), ObjectId('66b096bab20a795fcbac00b6'), ObjectId('66b096bab20a795fcbac00b7')], acknowledged=True)"
            ]
          },
          "metadata": {},
          "execution_count": 37
        }
      ]
    }
  ],
  "metadata": {
    "language_info": {
      "name": "python"
    },
    "colab": {
      "provenance": []
    },
    "kernelspec": {
      "name": "python3",
      "display_name": "Python 3"
    }
  },
  "nbformat": 4,
  "nbformat_minor": 5
}