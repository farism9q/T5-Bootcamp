{
  "cells": [
    {
      "cell_type": "markdown",
      "metadata": {
        "id": "DeDMU8rGJtM7"
      },
      "source": [
        "# **LSTM Exercise**"
      ]
    },
    {
      "cell_type": "markdown",
      "metadata": {
        "id": "73pucHkDJoyN"
      },
      "source": [
        "## Import libraries"
      ]
    },
    {
      "cell_type": "code",
      "execution_count": 1,
      "metadata": {
        "id": "W3AjCzdQJmSK"
      },
      "outputs": [],
      "source": [
        "import pandas as pd\n",
        "import numpy as np\n",
        "import matplotlib.pyplot as plt\n",
        "from sklearn.preprocessing import MinMaxScaler\n",
        "\n",
        "from tensorflow.keras.models import Sequential\n",
        "from tensorflow import keras\n"
      ]
    },
    {
      "cell_type": "markdown",
      "metadata": {
        "id": "91J8oMpJKYkO"
      },
      "source": [
        "## load the dataset\n",
        "### Dataset path : 5- Time series forecasting/2-2- Time Series Forecasting (LSTM and GRU)\n",
        "/ LAB/Dataset/traffic.csv\n"
      ]
    },
    {
      "cell_type": "code",
      "execution_count": 2,
      "metadata": {
        "colab": {
          "base_uri": "https://localhost:8080/"
        },
        "id": "FMmSszZBgLyq",
        "outputId": "cbf9dc9d-494a-46be-c463-a8a3c0f24b09"
      },
      "outputs": [
        {
          "name": "stdout",
          "output_type": "stream",
          "text": [
            "Mounted at /content/drive\n"
          ]
        }
      ],
      "source": [
        "from google.colab import drive\n",
        "drive.mount('/content/drive')"
      ]
    },
    {
      "cell_type": "code",
      "execution_count": 3,
      "metadata": {
        "id": "M2d-cmPGjH8m"
      },
      "outputs": [],
      "source": [
        "traffic = pd.read_csv(\"/content/drive/MyDrive/Colab Notebooks/T5 - Bootcamp/data/نسخة من traffic.csv\",\n",
        "                      usecols=[2],\n",
        "                      )\n",
        "\n"
      ]
    },
    {
      "cell_type": "code",
      "execution_count": 4,
      "metadata": {
        "colab": {
          "base_uri": "https://localhost:8080/",
          "height": 206
        },
        "id": "2NYyJxfi5zUr",
        "outputId": "d5b0e663-a7f2-4ccc-8f74-b5cffc4a219b"
      },
      "outputs": [
        {
          "data": {
            "application/vnd.google.colaboratory.intrinsic+json": {
              "summary": "{\n  \"name\": \"traffic\",\n  \"rows\": 48120,\n  \"fields\": [\n    {\n      \"column\": \"Vehicles\",\n      \"properties\": {\n        \"dtype\": \"number\",\n        \"std\": 20,\n        \"min\": 1,\n        \"max\": 180,\n        \"num_unique_values\": 141,\n        \"samples\": [\n          73,\n          99,\n          38\n        ],\n        \"semantic_type\": \"\",\n        \"description\": \"\"\n      }\n    }\n  ]\n}",
              "type": "dataframe",
              "variable_name": "traffic"
            },
            "text/html": [
              "\n",
              "  <div id=\"df-44d722f3-d369-4663-8d20-9abbac272610\" class=\"colab-df-container\">\n",
              "    <div>\n",
              "<style scoped>\n",
              "    .dataframe tbody tr th:only-of-type {\n",
              "        vertical-align: middle;\n",
              "    }\n",
              "\n",
              "    .dataframe tbody tr th {\n",
              "        vertical-align: top;\n",
              "    }\n",
              "\n",
              "    .dataframe thead th {\n",
              "        text-align: right;\n",
              "    }\n",
              "</style>\n",
              "<table border=\"1\" class=\"dataframe\">\n",
              "  <thead>\n",
              "    <tr style=\"text-align: right;\">\n",
              "      <th></th>\n",
              "      <th>Vehicles</th>\n",
              "    </tr>\n",
              "  </thead>\n",
              "  <tbody>\n",
              "    <tr>\n",
              "      <th>0</th>\n",
              "      <td>15</td>\n",
              "    </tr>\n",
              "    <tr>\n",
              "      <th>1</th>\n",
              "      <td>13</td>\n",
              "    </tr>\n",
              "    <tr>\n",
              "      <th>2</th>\n",
              "      <td>10</td>\n",
              "    </tr>\n",
              "    <tr>\n",
              "      <th>3</th>\n",
              "      <td>7</td>\n",
              "    </tr>\n",
              "    <tr>\n",
              "      <th>4</th>\n",
              "      <td>9</td>\n",
              "    </tr>\n",
              "  </tbody>\n",
              "</table>\n",
              "</div>\n",
              "    <div class=\"colab-df-buttons\">\n",
              "\n",
              "  <div class=\"colab-df-container\">\n",
              "    <button class=\"colab-df-convert\" onclick=\"convertToInteractive('df-44d722f3-d369-4663-8d20-9abbac272610')\"\n",
              "            title=\"Convert this dataframe to an interactive table.\"\n",
              "            style=\"display:none;\">\n",
              "\n",
              "  <svg xmlns=\"http://www.w3.org/2000/svg\" height=\"24px\" viewBox=\"0 -960 960 960\">\n",
              "    <path d=\"M120-120v-720h720v720H120Zm60-500h600v-160H180v160Zm220 220h160v-160H400v160Zm0 220h160v-160H400v160ZM180-400h160v-160H180v160Zm440 0h160v-160H620v160ZM180-180h160v-160H180v160Zm440 0h160v-160H620v160Z\"/>\n",
              "  </svg>\n",
              "    </button>\n",
              "\n",
              "  <style>\n",
              "    .colab-df-container {\n",
              "      display:flex;\n",
              "      gap: 12px;\n",
              "    }\n",
              "\n",
              "    .colab-df-convert {\n",
              "      background-color: #E8F0FE;\n",
              "      border: none;\n",
              "      border-radius: 50%;\n",
              "      cursor: pointer;\n",
              "      display: none;\n",
              "      fill: #1967D2;\n",
              "      height: 32px;\n",
              "      padding: 0 0 0 0;\n",
              "      width: 32px;\n",
              "    }\n",
              "\n",
              "    .colab-df-convert:hover {\n",
              "      background-color: #E2EBFA;\n",
              "      box-shadow: 0px 1px 2px rgba(60, 64, 67, 0.3), 0px 1px 3px 1px rgba(60, 64, 67, 0.15);\n",
              "      fill: #174EA6;\n",
              "    }\n",
              "\n",
              "    .colab-df-buttons div {\n",
              "      margin-bottom: 4px;\n",
              "    }\n",
              "\n",
              "    [theme=dark] .colab-df-convert {\n",
              "      background-color: #3B4455;\n",
              "      fill: #D2E3FC;\n",
              "    }\n",
              "\n",
              "    [theme=dark] .colab-df-convert:hover {\n",
              "      background-color: #434B5C;\n",
              "      box-shadow: 0px 1px 3px 1px rgba(0, 0, 0, 0.15);\n",
              "      filter: drop-shadow(0px 1px 2px rgba(0, 0, 0, 0.3));\n",
              "      fill: #FFFFFF;\n",
              "    }\n",
              "  </style>\n",
              "\n",
              "    <script>\n",
              "      const buttonEl =\n",
              "        document.querySelector('#df-44d722f3-d369-4663-8d20-9abbac272610 button.colab-df-convert');\n",
              "      buttonEl.style.display =\n",
              "        google.colab.kernel.accessAllowed ? 'block' : 'none';\n",
              "\n",
              "      async function convertToInteractive(key) {\n",
              "        const element = document.querySelector('#df-44d722f3-d369-4663-8d20-9abbac272610');\n",
              "        const dataTable =\n",
              "          await google.colab.kernel.invokeFunction('convertToInteractive',\n",
              "                                                    [key], {});\n",
              "        if (!dataTable) return;\n",
              "\n",
              "        const docLinkHtml = 'Like what you see? Visit the ' +\n",
              "          '<a target=\"_blank\" href=https://colab.research.google.com/notebooks/data_table.ipynb>data table notebook</a>'\n",
              "          + ' to learn more about interactive tables.';\n",
              "        element.innerHTML = '';\n",
              "        dataTable['output_type'] = 'display_data';\n",
              "        await google.colab.output.renderOutput(dataTable, element);\n",
              "        const docLink = document.createElement('div');\n",
              "        docLink.innerHTML = docLinkHtml;\n",
              "        element.appendChild(docLink);\n",
              "      }\n",
              "    </script>\n",
              "  </div>\n",
              "\n",
              "\n",
              "<div id=\"df-7aa07cc2-b486-4e5e-a48b-db0bae9e34ec\">\n",
              "  <button class=\"colab-df-quickchart\" onclick=\"quickchart('df-7aa07cc2-b486-4e5e-a48b-db0bae9e34ec')\"\n",
              "            title=\"Suggest charts\"\n",
              "            style=\"display:none;\">\n",
              "\n",
              "<svg xmlns=\"http://www.w3.org/2000/svg\" height=\"24px\"viewBox=\"0 0 24 24\"\n",
              "     width=\"24px\">\n",
              "    <g>\n",
              "        <path d=\"M19 3H5c-1.1 0-2 .9-2 2v14c0 1.1.9 2 2 2h14c1.1 0 2-.9 2-2V5c0-1.1-.9-2-2-2zM9 17H7v-7h2v7zm4 0h-2V7h2v10zm4 0h-2v-4h2v4z\"/>\n",
              "    </g>\n",
              "</svg>\n",
              "  </button>\n",
              "\n",
              "<style>\n",
              "  .colab-df-quickchart {\n",
              "      --bg-color: #E8F0FE;\n",
              "      --fill-color: #1967D2;\n",
              "      --hover-bg-color: #E2EBFA;\n",
              "      --hover-fill-color: #174EA6;\n",
              "      --disabled-fill-color: #AAA;\n",
              "      --disabled-bg-color: #DDD;\n",
              "  }\n",
              "\n",
              "  [theme=dark] .colab-df-quickchart {\n",
              "      --bg-color: #3B4455;\n",
              "      --fill-color: #D2E3FC;\n",
              "      --hover-bg-color: #434B5C;\n",
              "      --hover-fill-color: #FFFFFF;\n",
              "      --disabled-bg-color: #3B4455;\n",
              "      --disabled-fill-color: #666;\n",
              "  }\n",
              "\n",
              "  .colab-df-quickchart {\n",
              "    background-color: var(--bg-color);\n",
              "    border: none;\n",
              "    border-radius: 50%;\n",
              "    cursor: pointer;\n",
              "    display: none;\n",
              "    fill: var(--fill-color);\n",
              "    height: 32px;\n",
              "    padding: 0;\n",
              "    width: 32px;\n",
              "  }\n",
              "\n",
              "  .colab-df-quickchart:hover {\n",
              "    background-color: var(--hover-bg-color);\n",
              "    box-shadow: 0 1px 2px rgba(60, 64, 67, 0.3), 0 1px 3px 1px rgba(60, 64, 67, 0.15);\n",
              "    fill: var(--button-hover-fill-color);\n",
              "  }\n",
              "\n",
              "  .colab-df-quickchart-complete:disabled,\n",
              "  .colab-df-quickchart-complete:disabled:hover {\n",
              "    background-color: var(--disabled-bg-color);\n",
              "    fill: var(--disabled-fill-color);\n",
              "    box-shadow: none;\n",
              "  }\n",
              "\n",
              "  .colab-df-spinner {\n",
              "    border: 2px solid var(--fill-color);\n",
              "    border-color: transparent;\n",
              "    border-bottom-color: var(--fill-color);\n",
              "    animation:\n",
              "      spin 1s steps(1) infinite;\n",
              "  }\n",
              "\n",
              "  @keyframes spin {\n",
              "    0% {\n",
              "      border-color: transparent;\n",
              "      border-bottom-color: var(--fill-color);\n",
              "      border-left-color: var(--fill-color);\n",
              "    }\n",
              "    20% {\n",
              "      border-color: transparent;\n",
              "      border-left-color: var(--fill-color);\n",
              "      border-top-color: var(--fill-color);\n",
              "    }\n",
              "    30% {\n",
              "      border-color: transparent;\n",
              "      border-left-color: var(--fill-color);\n",
              "      border-top-color: var(--fill-color);\n",
              "      border-right-color: var(--fill-color);\n",
              "    }\n",
              "    40% {\n",
              "      border-color: transparent;\n",
              "      border-right-color: var(--fill-color);\n",
              "      border-top-color: var(--fill-color);\n",
              "    }\n",
              "    60% {\n",
              "      border-color: transparent;\n",
              "      border-right-color: var(--fill-color);\n",
              "    }\n",
              "    80% {\n",
              "      border-color: transparent;\n",
              "      border-right-color: var(--fill-color);\n",
              "      border-bottom-color: var(--fill-color);\n",
              "    }\n",
              "    90% {\n",
              "      border-color: transparent;\n",
              "      border-bottom-color: var(--fill-color);\n",
              "    }\n",
              "  }\n",
              "</style>\n",
              "\n",
              "  <script>\n",
              "    async function quickchart(key) {\n",
              "      const quickchartButtonEl =\n",
              "        document.querySelector('#' + key + ' button');\n",
              "      quickchartButtonEl.disabled = true;  // To prevent multiple clicks.\n",
              "      quickchartButtonEl.classList.add('colab-df-spinner');\n",
              "      try {\n",
              "        const charts = await google.colab.kernel.invokeFunction(\n",
              "            'suggestCharts', [key], {});\n",
              "      } catch (error) {\n",
              "        console.error('Error during call to suggestCharts:', error);\n",
              "      }\n",
              "      quickchartButtonEl.classList.remove('colab-df-spinner');\n",
              "      quickchartButtonEl.classList.add('colab-df-quickchart-complete');\n",
              "    }\n",
              "    (() => {\n",
              "      let quickchartButtonEl =\n",
              "        document.querySelector('#df-7aa07cc2-b486-4e5e-a48b-db0bae9e34ec button');\n",
              "      quickchartButtonEl.style.display =\n",
              "        google.colab.kernel.accessAllowed ? 'block' : 'none';\n",
              "    })();\n",
              "  </script>\n",
              "</div>\n",
              "\n",
              "    </div>\n",
              "  </div>\n"
            ],
            "text/plain": [
              "   Vehicles\n",
              "0        15\n",
              "1        13\n",
              "2        10\n",
              "3         7\n",
              "4         9"
            ]
          },
          "execution_count": 4,
          "metadata": {},
          "output_type": "execute_result"
        }
      ],
      "source": [
        "traffic.head()"
      ]
    },
    {
      "cell_type": "code",
      "execution_count": 5,
      "metadata": {
        "id": "4wCr69EqLHS1"
      },
      "outputs": [],
      "source": [
        "traffic = traffic.values.astype(\"float32\")"
      ]
    },
    {
      "cell_type": "markdown",
      "metadata": {
        "id": "i7yyKGkVKi88"
      },
      "source": [
        "## Normalize the dataset"
      ]
    },
    {
      "cell_type": "code",
      "execution_count": 6,
      "metadata": {
        "id": "dacoPvqbKdpP"
      },
      "outputs": [],
      "source": [
        "scaler = MinMaxScaler(feature_range=(0, 1))\n",
        "\n",
        "dataset = scaler.fit_transform(traffic)\n"
      ]
    },
    {
      "cell_type": "markdown",
      "metadata": {
        "id": "GV-4d-zxKvJI"
      },
      "source": [
        "## split into train and test sets"
      ]
    },
    {
      "cell_type": "code",
      "execution_count": 7,
      "metadata": {
        "colab": {
          "base_uri": "https://localhost:8080/"
        },
        "id": "4K7bNBFiKr_j",
        "outputId": "6e7abffd-a9ab-47cc-dac7-5baa6786b6ab"
      },
      "outputs": [
        {
          "name": "stdout",
          "output_type": "stream",
          "text": [
            "33684 14436\n"
          ]
        }
      ],
      "source": [
        "train_size = int(len(dataset) * 0.7)\n",
        "test_size = len(dataset) - train_size\n",
        "train, test = dataset[0:train_size, :], dataset[train_size:len(dataset), :]\n",
        "\n",
        "print(len(train), len(test))\n",
        "\n",
        "\n"
      ]
    },
    {
      "cell_type": "markdown",
      "metadata": {
        "id": "wGtZ2LxAmMgu"
      },
      "source": [
        "## function to prepare the train and test datasets for modeling."
      ]
    },
    {
      "cell_type": "code",
      "execution_count": 18,
      "metadata": {
        "id": "eGlimwm6qfzY"
      },
      "outputs": [],
      "source": [
        "def create_dataset(dataset, look_back = 1):\n",
        "  dataX, dataY = [], []\n",
        "  for i in range(len(dataset) - look_back - 1):\n",
        "    a = dataset[i:(i + look_back), 0]\n",
        "    dataX.append(a)\n",
        "    dataY.append(dataset[i + look_back, 0])\n",
        "\n",
        "  return np.array(dataX), np.array(dataY)\n",
        "\n"
      ]
    },
    {
      "cell_type": "code",
      "execution_count": 21,
      "metadata": {
        "id": "xS3VdRvooESy"
      },
      "outputs": [],
      "source": [
        "# Steps to look_back\n",
        "look_back = 3\n",
        "\n",
        "X_train, y_train = create_dataset(train, look_back)\n",
        "X_test, y_test = create_dataset(test, look_back)\n"
      ]
    },
    {
      "cell_type": "code",
      "execution_count": null,
      "metadata": {
        "colab": {
          "base_uri": "https://localhost:8080/"
        },
        "id": "bAJRefT-POrj",
        "outputId": "0d5ebcb0-f3f3-4021-eb0a-38f5583e3181"
      },
      "outputs": [
        {
          "data": {
            "text/plain": [
              "(33680, 3)"
            ]
          },
          "execution_count": 83,
          "metadata": {},
          "output_type": "execute_result"
        }
      ],
      "source": [
        "X_train.shape"
      ]
    },
    {
      "cell_type": "code",
      "execution_count": null,
      "metadata": {
        "colab": {
          "base_uri": "https://localhost:8080/"
        },
        "collapsed": true,
        "id": "xDEPrJswVVUE",
        "outputId": "a78ba4c0-e52a-441a-e195-5f6822546b5f"
      },
      "outputs": [
        {
          "data": {
            "text/plain": [
              "array([[0.07821228, 0.0670391 , 0.05027933],\n",
              "       [0.0670391 , 0.05027933, 0.03351955],\n",
              "       [0.05027933, 0.03351955, 0.04469274],\n",
              "       ...,\n",
              "       [0.02793296, 0.02234637, 0.04469274],\n",
              "       [0.02234637, 0.04469274, 0.02793296],\n",
              "       [0.04469274, 0.02793296, 0.04469274]], dtype=float32)"
            ]
          },
          "execution_count": 84,
          "metadata": {},
          "output_type": "execute_result"
        }
      ],
      "source": [
        "X_train"
      ]
    },
    {
      "cell_type": "code",
      "execution_count": 22,
      "metadata": {
        "id": "BT9cKHjbrCs4"
      },
      "outputs": [],
      "source": [
        "# reshape input to be [samples, time steps, features]\n",
        "X_train = np.reshape(X_train, (X_train.shape[0],X_train.shape[1],1))\n",
        "X_test = np.reshape(X_test, (X_test.shape[0],X_test.shape[1],1))"
      ]
    },
    {
      "cell_type": "code",
      "execution_count": 23,
      "metadata": {
        "colab": {
          "base_uri": "https://localhost:8080/"
        },
        "id": "jfShXd2aU2Vc",
        "outputId": "812549fb-3478-4f35-a420-695ea79c6c56"
      },
      "outputs": [
        {
          "data": {
            "text/plain": [
              "(33680, 3, 1)"
            ]
          },
          "execution_count": 23,
          "metadata": {},
          "output_type": "execute_result"
        }
      ],
      "source": [
        "X_train.shape"
      ]
    },
    {
      "cell_type": "code",
      "execution_count": 24,
      "metadata": {
        "colab": {
          "base_uri": "https://localhost:8080/"
        },
        "collapsed": true,
        "id": "G3EKkplKVkNL",
        "outputId": "3cbf26a9-aba9-4a17-8219-e523c03bd2bc"
      },
      "outputs": [
        {
          "data": {
            "text/plain": [
              "array([[[0.07821228],\n",
              "        [0.0670391 ],\n",
              "        [0.05027933]],\n",
              "\n",
              "       [[0.0670391 ],\n",
              "        [0.05027933],\n",
              "        [0.03351955]],\n",
              "\n",
              "       [[0.05027933],\n",
              "        [0.03351955],\n",
              "        [0.04469274]],\n",
              "\n",
              "       ...,\n",
              "\n",
              "       [[0.02793296],\n",
              "        [0.02234637],\n",
              "        [0.04469274]],\n",
              "\n",
              "       [[0.02234637],\n",
              "        [0.04469274],\n",
              "        [0.02793296]],\n",
              "\n",
              "       [[0.04469274],\n",
              "        [0.02793296],\n",
              "        [0.04469274]]], dtype=float32)"
            ]
          },
          "execution_count": 24,
          "metadata": {},
          "output_type": "execute_result"
        }
      ],
      "source": [
        "X_train"
      ]
    },
    {
      "cell_type": "markdown",
      "metadata": {
        "id": "Enlx1TQhLcp5"
      },
      "source": [
        "## Fit the LSTM"
      ]
    },
    {
      "cell_type": "code",
      "execution_count": 25,
      "metadata": {
        "colab": {
          "base_uri": "https://localhost:8080/"
        },
        "id": "tKTnFm3lLcIj",
        "outputId": "07e2cff6-3b09-4957-ff52-ff5e650768bb"
      },
      "outputs": [
        {
          "name": "stderr",
          "output_type": "stream",
          "text": [
            "/usr/local/lib/python3.10/dist-packages/keras/src/layers/rnn/rnn.py:204: UserWarning: Do not pass an `input_shape`/`input_dim` argument to a layer. When using Sequential models, prefer using an `Input(shape)` object as the first layer in the model instead.\n",
            "  super().__init__(**kwargs)\n"
          ]
        }
      ],
      "source": [
        "model = Sequential()\n",
        "\n",
        "model.add(keras.layers.LSTM(4, return_sequences=True, input_shape=(X_train.shape[1], 1)))\n",
        "model.add(keras.layers.Dropout(0.2))\n",
        "model.add(keras.layers.LSTM(4))\n",
        "model.add(keras.layers.Dropout(0.2))\n",
        "model.add(keras.layers.Dense(1))\n",
        "\n",
        "model.compile(loss=\"mean_squared_error\", optimizer=\"adam\")\n",
        "\n"
      ]
    },
    {
      "cell_type": "code",
      "execution_count": 26,
      "metadata": {
        "colab": {
          "base_uri": "https://localhost:8080/"
        },
        "collapsed": true,
        "id": "3mDli1O4s29W",
        "outputId": "bc3c0972-aacc-4b2f-c8dc-57a633a5997b"
      },
      "outputs": [
        {
          "name": "stdout",
          "output_type": "stream",
          "text": [
            "Epoch 1/100\n",
            "\u001b[1m1053/1053\u001b[0m \u001b[32m━━━━━━━━━━━━━━━━━━━━\u001b[0m\u001b[37m\u001b[0m \u001b[1m10s\u001b[0m 5ms/step - loss: 0.0109\n",
            "Epoch 2/100\n",
            "\u001b[1m1053/1053\u001b[0m \u001b[32m━━━━━━━━━━━━━━━━━━━━\u001b[0m\u001b[37m\u001b[0m \u001b[1m7s\u001b[0m 7ms/step - loss: 0.0031\n",
            "Epoch 3/100\n",
            "\u001b[1m1053/1053\u001b[0m \u001b[32m━━━━━━━━━━━━━━━━━━━━\u001b[0m\u001b[37m\u001b[0m \u001b[1m9s\u001b[0m 5ms/step - loss: 0.0027\n",
            "Epoch 4/100\n",
            "\u001b[1m1053/1053\u001b[0m \u001b[32m━━━━━━━━━━━━━━━━━━━━\u001b[0m\u001b[37m\u001b[0m \u001b[1m10s\u001b[0m 5ms/step - loss: 0.0026\n",
            "Epoch 5/100\n",
            "\u001b[1m1053/1053\u001b[0m \u001b[32m━━━━━━━━━━━━━━━━━━━━\u001b[0m\u001b[37m\u001b[0m \u001b[1m7s\u001b[0m 6ms/step - loss: 0.0023\n",
            "Epoch 6/100\n",
            "\u001b[1m1053/1053\u001b[0m \u001b[32m━━━━━━━━━━━━━━━━━━━━\u001b[0m\u001b[37m\u001b[0m \u001b[1m5s\u001b[0m 5ms/step - loss: 0.0020\n",
            "Epoch 7/100\n",
            "\u001b[1m1053/1053\u001b[0m \u001b[32m━━━━━━━━━━━━━━━━━━━━\u001b[0m\u001b[37m\u001b[0m \u001b[1m12s\u001b[0m 6ms/step - loss: 0.0021\n",
            "Epoch 8/100\n",
            "\u001b[1m1053/1053\u001b[0m \u001b[32m━━━━━━━━━━━━━━━━━━━━\u001b[0m\u001b[37m\u001b[0m \u001b[1m5s\u001b[0m 5ms/step - loss: 0.0020\n",
            "Epoch 9/100\n",
            "\u001b[1m1053/1053\u001b[0m \u001b[32m━━━━━━━━━━━━━━━━━━━━\u001b[0m\u001b[37m\u001b[0m \u001b[1m6s\u001b[0m 6ms/step - loss: 0.0019\n",
            "Epoch 10/100\n",
            "\u001b[1m1053/1053\u001b[0m \u001b[32m━━━━━━━━━━━━━━━━━━━━\u001b[0m\u001b[37m\u001b[0m \u001b[1m9s\u001b[0m 5ms/step - loss: 0.0019\n",
            "Epoch 11/100\n",
            "\u001b[1m1053/1053\u001b[0m \u001b[32m━━━━━━━━━━━━━━━━━━━━\u001b[0m\u001b[37m\u001b[0m \u001b[1m8s\u001b[0m 7ms/step - loss: 0.0019\n",
            "Epoch 12/100\n",
            "\u001b[1m1053/1053\u001b[0m \u001b[32m━━━━━━━━━━━━━━━━━━━━\u001b[0m\u001b[37m\u001b[0m \u001b[1m7s\u001b[0m 4ms/step - loss: 0.0020\n",
            "Epoch 13/100\n",
            "\u001b[1m1053/1053\u001b[0m \u001b[32m━━━━━━━━━━━━━━━━━━━━\u001b[0m\u001b[37m\u001b[0m \u001b[1m7s\u001b[0m 7ms/step - loss: 0.0019\n",
            "Epoch 14/100\n",
            "\u001b[1m1053/1053\u001b[0m \u001b[32m━━━━━━━━━━━━━━━━━━━━\u001b[0m\u001b[37m\u001b[0m \u001b[1m9s\u001b[0m 5ms/step - loss: 0.0019\n",
            "Epoch 15/100\n",
            "\u001b[1m1053/1053\u001b[0m \u001b[32m━━━━━━━━━━━━━━━━━━━━\u001b[0m\u001b[37m\u001b[0m \u001b[1m10s\u001b[0m 5ms/step - loss: 0.0019\n",
            "Epoch 16/100\n",
            "\u001b[1m1053/1053\u001b[0m \u001b[32m━━━━━━━━━━━━━━━━━━━━\u001b[0m\u001b[37m\u001b[0m \u001b[1m6s\u001b[0m 5ms/step - loss: 0.0019\n",
            "Epoch 17/100\n",
            "\u001b[1m1053/1053\u001b[0m \u001b[32m━━━━━━━━━━━━━━━━━━━━\u001b[0m\u001b[37m\u001b[0m \u001b[1m10s\u001b[0m 5ms/step - loss: 0.0019\n",
            "Epoch 18/100\n",
            "\u001b[1m1053/1053\u001b[0m \u001b[32m━━━━━━━━━━━━━━━━━━━━\u001b[0m\u001b[37m\u001b[0m \u001b[1m7s\u001b[0m 7ms/step - loss: 0.0019\n",
            "Epoch 19/100\n",
            "\u001b[1m1053/1053\u001b[0m \u001b[32m━━━━━━━━━━━━━━━━━━━━\u001b[0m\u001b[37m\u001b[0m \u001b[1m8s\u001b[0m 5ms/step - loss: 0.0019\n",
            "Epoch 20/100\n",
            "\u001b[1m1053/1053\u001b[0m \u001b[32m━━━━━━━━━━━━━━━━━━━━\u001b[0m\u001b[37m\u001b[0m \u001b[1m7s\u001b[0m 7ms/step - loss: 0.0019\n",
            "Epoch 21/100\n",
            "\u001b[1m1053/1053\u001b[0m \u001b[32m━━━━━━━━━━━━━━━━━━━━\u001b[0m\u001b[37m\u001b[0m \u001b[1m8s\u001b[0m 5ms/step - loss: 0.0019\n",
            "Epoch 22/100\n",
            "\u001b[1m1053/1053\u001b[0m \u001b[32m━━━━━━━━━━━━━━━━━━━━\u001b[0m\u001b[37m\u001b[0m \u001b[1m10s\u001b[0m 5ms/step - loss: 0.0019\n",
            "Epoch 23/100\n",
            "\u001b[1m1053/1053\u001b[0m \u001b[32m━━━━━━━━━━━━━━━━━━━━\u001b[0m\u001b[37m\u001b[0m \u001b[1m6s\u001b[0m 6ms/step - loss: 0.0019\n",
            "Epoch 24/100\n",
            "\u001b[1m1053/1053\u001b[0m \u001b[32m━━━━━━━━━━━━━━━━━━━━\u001b[0m\u001b[37m\u001b[0m \u001b[1m11s\u001b[0m 6ms/step - loss: 0.0018\n",
            "Epoch 25/100\n",
            "\u001b[1m1053/1053\u001b[0m \u001b[32m━━━━━━━━━━━━━━━━━━━━\u001b[0m\u001b[37m\u001b[0m \u001b[1m10s\u001b[0m 6ms/step - loss: 0.0018\n",
            "Epoch 26/100\n",
            "\u001b[1m1053/1053\u001b[0m \u001b[32m━━━━━━━━━━━━━━━━━━━━\u001b[0m\u001b[37m\u001b[0m \u001b[1m11s\u001b[0m 7ms/step - loss: 0.0019\n",
            "Epoch 27/100\n",
            "\u001b[1m1053/1053\u001b[0m \u001b[32m━━━━━━━━━━━━━━━━━━━━\u001b[0m\u001b[37m\u001b[0m \u001b[1m6s\u001b[0m 5ms/step - loss: 0.0019\n",
            "Epoch 28/100\n",
            "\u001b[1m1053/1053\u001b[0m \u001b[32m━━━━━━━━━━━━━━━━━━━━\u001b[0m\u001b[37m\u001b[0m \u001b[1m10s\u001b[0m 5ms/step - loss: 0.0019\n",
            "Epoch 29/100\n",
            "\u001b[1m1053/1053\u001b[0m \u001b[32m━━━━━━━━━━━━━━━━━━━━\u001b[0m\u001b[37m\u001b[0m \u001b[1m5s\u001b[0m 5ms/step - loss: 0.0019\n",
            "Epoch 30/100\n",
            "\u001b[1m1053/1053\u001b[0m \u001b[32m━━━━━━━━━━━━━━━━━━━━\u001b[0m\u001b[37m\u001b[0m \u001b[1m7s\u001b[0m 7ms/step - loss: 0.0019\n",
            "Epoch 31/100\n",
            "\u001b[1m1053/1053\u001b[0m \u001b[32m━━━━━━━━━━━━━━━━━━━━\u001b[0m\u001b[37m\u001b[0m \u001b[1m5s\u001b[0m 5ms/step - loss: 0.0019\n",
            "Epoch 32/100\n",
            "\u001b[1m1053/1053\u001b[0m \u001b[32m━━━━━━━━━━━━━━━━━━━━\u001b[0m\u001b[37m\u001b[0m \u001b[1m7s\u001b[0m 7ms/step - loss: 0.0018\n",
            "Epoch 33/100\n",
            "\u001b[1m1053/1053\u001b[0m \u001b[32m━━━━━━━━━━━━━━━━━━━━\u001b[0m\u001b[37m\u001b[0m \u001b[1m5s\u001b[0m 5ms/step - loss: 0.0018\n",
            "Epoch 34/100\n",
            "\u001b[1m1053/1053\u001b[0m \u001b[32m━━━━━━━━━━━━━━━━━━━━\u001b[0m\u001b[37m\u001b[0m \u001b[1m12s\u001b[0m 6ms/step - loss: 0.0018\n",
            "Epoch 35/100\n",
            "\u001b[1m1053/1053\u001b[0m \u001b[32m━━━━━━━━━━━━━━━━━━━━\u001b[0m\u001b[37m\u001b[0m \u001b[1m9s\u001b[0m 5ms/step - loss: 0.0018\n",
            "Epoch 36/100\n",
            "\u001b[1m1053/1053\u001b[0m \u001b[32m━━━━━━━━━━━━━━━━━━━━\u001b[0m\u001b[37m\u001b[0m \u001b[1m7s\u001b[0m 7ms/step - loss: 0.0018\n",
            "Epoch 37/100\n",
            "\u001b[1m1053/1053\u001b[0m \u001b[32m━━━━━━━━━━━━━━━━━━━━\u001b[0m\u001b[37m\u001b[0m \u001b[1m5s\u001b[0m 5ms/step - loss: 0.0018\n",
            "Epoch 38/100\n",
            "\u001b[1m1053/1053\u001b[0m \u001b[32m━━━━━━━━━━━━━━━━━━━━\u001b[0m\u001b[37m\u001b[0m \u001b[1m6s\u001b[0m 6ms/step - loss: 0.0019\n",
            "Epoch 39/100\n",
            "\u001b[1m1053/1053\u001b[0m \u001b[32m━━━━━━━━━━━━━━━━━━━━\u001b[0m\u001b[37m\u001b[0m \u001b[1m6s\u001b[0m 6ms/step - loss: 0.0018\n",
            "Epoch 40/100\n",
            "\u001b[1m1053/1053\u001b[0m \u001b[32m━━━━━━━━━━━━━━━━━━━━\u001b[0m\u001b[37m\u001b[0m \u001b[1m6s\u001b[0m 6ms/step - loss: 0.0018\n",
            "Epoch 41/100\n",
            "\u001b[1m1053/1053\u001b[0m \u001b[32m━━━━━━━━━━━━━━━━━━━━\u001b[0m\u001b[37m\u001b[0m \u001b[1m10s\u001b[0m 5ms/step - loss: 0.0018\n",
            "Epoch 42/100\n",
            "\u001b[1m1053/1053\u001b[0m \u001b[32m━━━━━━━━━━━━━━━━━━━━\u001b[0m\u001b[37m\u001b[0m \u001b[1m7s\u001b[0m 7ms/step - loss: 0.0019\n",
            "Epoch 43/100\n",
            "\u001b[1m1053/1053\u001b[0m \u001b[32m━━━━━━━━━━━━━━━━━━━━\u001b[0m\u001b[37m\u001b[0m \u001b[1m6s\u001b[0m 6ms/step - loss: 0.0018\n",
            "Epoch 44/100\n",
            "\u001b[1m1053/1053\u001b[0m \u001b[32m━━━━━━━━━━━━━━━━━━━━\u001b[0m\u001b[37m\u001b[0m \u001b[1m12s\u001b[0m 8ms/step - loss: 0.0019\n",
            "Epoch 45/100\n",
            "\u001b[1m1053/1053\u001b[0m \u001b[32m━━━━━━━━━━━━━━━━━━━━\u001b[0m\u001b[37m\u001b[0m \u001b[1m5s\u001b[0m 5ms/step - loss: 0.0018\n",
            "Epoch 46/100\n",
            "\u001b[1m1053/1053\u001b[0m \u001b[32m━━━━━━━━━━━━━━━━━━━━\u001b[0m\u001b[37m\u001b[0m \u001b[1m10s\u001b[0m 5ms/step - loss: 0.0018\n",
            "Epoch 47/100\n",
            "\u001b[1m1053/1053\u001b[0m \u001b[32m━━━━━━━━━━━━━━━━━━━━\u001b[0m\u001b[37m\u001b[0m \u001b[1m5s\u001b[0m 5ms/step - loss: 0.0018\n",
            "Epoch 48/100\n",
            "\u001b[1m1053/1053\u001b[0m \u001b[32m━━━━━━━━━━━━━━━━━━━━\u001b[0m\u001b[37m\u001b[0m \u001b[1m7s\u001b[0m 7ms/step - loss: 0.0017\n",
            "Epoch 49/100\n",
            "\u001b[1m1053/1053\u001b[0m \u001b[32m━━━━━━━━━━━━━━━━━━━━\u001b[0m\u001b[37m\u001b[0m \u001b[1m5s\u001b[0m 5ms/step - loss: 0.0018\n",
            "Epoch 50/100\n",
            "\u001b[1m1053/1053\u001b[0m \u001b[32m━━━━━━━━━━━━━━━━━━━━\u001b[0m\u001b[37m\u001b[0m \u001b[1m7s\u001b[0m 6ms/step - loss: 0.0019\n",
            "Epoch 51/100\n",
            "\u001b[1m1053/1053\u001b[0m \u001b[32m━━━━━━━━━━━━━━━━━━━━\u001b[0m\u001b[37m\u001b[0m \u001b[1m9s\u001b[0m 5ms/step - loss: 0.0018\n",
            "Epoch 52/100\n",
            "\u001b[1m1053/1053\u001b[0m \u001b[32m━━━━━━━━━━━━━━━━━━━━\u001b[0m\u001b[37m\u001b[0m \u001b[1m7s\u001b[0m 7ms/step - loss: 0.0018\n",
            "Epoch 53/100\n",
            "\u001b[1m1053/1053\u001b[0m \u001b[32m━━━━━━━━━━━━━━━━━━━━\u001b[0m\u001b[37m\u001b[0m \u001b[1m8s\u001b[0m 5ms/step - loss: 0.0018\n",
            "Epoch 54/100\n",
            "\u001b[1m1053/1053\u001b[0m \u001b[32m━━━━━━━━━━━━━━━━━━━━\u001b[0m\u001b[37m\u001b[0m \u001b[1m7s\u001b[0m 7ms/step - loss: 0.0018\n",
            "Epoch 55/100\n",
            "\u001b[1m1053/1053\u001b[0m \u001b[32m━━━━━━━━━━━━━━━━━━━━\u001b[0m\u001b[37m\u001b[0m \u001b[1m8s\u001b[0m 5ms/step - loss: 0.0018\n",
            "Epoch 56/100\n",
            "\u001b[1m1053/1053\u001b[0m \u001b[32m━━━━━━━━━━━━━━━━━━━━\u001b[0m\u001b[37m\u001b[0m \u001b[1m7s\u001b[0m 7ms/step - loss: 0.0019\n",
            "Epoch 57/100\n",
            "\u001b[1m1053/1053\u001b[0m \u001b[32m━━━━━━━━━━━━━━━━━━━━\u001b[0m\u001b[37m\u001b[0m \u001b[1m5s\u001b[0m 5ms/step - loss: 0.0018\n",
            "Epoch 58/100\n",
            "\u001b[1m1053/1053\u001b[0m \u001b[32m━━━━━━━━━━━━━━━━━━━━\u001b[0m\u001b[37m\u001b[0m \u001b[1m12s\u001b[0m 6ms/step - loss: 0.0018\n",
            "Epoch 59/100\n",
            "\u001b[1m1053/1053\u001b[0m \u001b[32m━━━━━━━━━━━━━━━━━━━━\u001b[0m\u001b[37m\u001b[0m \u001b[1m10s\u001b[0m 6ms/step - loss: 0.0018\n",
            "Epoch 60/100\n",
            "\u001b[1m1053/1053\u001b[0m \u001b[32m━━━━━━━━━━━━━━━━━━━━\u001b[0m\u001b[37m\u001b[0m \u001b[1m6s\u001b[0m 6ms/step - loss: 0.0018\n",
            "Epoch 61/100\n",
            "\u001b[1m1053/1053\u001b[0m \u001b[32m━━━━━━━━━━━━━━━━━━━━\u001b[0m\u001b[37m\u001b[0m \u001b[1m5s\u001b[0m 5ms/step - loss: 0.0018\n",
            "Epoch 62/100\n",
            "\u001b[1m1053/1053\u001b[0m \u001b[32m━━━━━━━━━━━━━━━━━━━━\u001b[0m\u001b[37m\u001b[0m \u001b[1m7s\u001b[0m 7ms/step - loss: 0.0018\n",
            "Epoch 63/100\n",
            "\u001b[1m1053/1053\u001b[0m \u001b[32m━━━━━━━━━━━━━━━━━━━━\u001b[0m\u001b[37m\u001b[0m \u001b[1m5s\u001b[0m 5ms/step - loss: 0.0018\n",
            "Epoch 64/100\n",
            "\u001b[1m1053/1053\u001b[0m \u001b[32m━━━━━━━━━━━━━━━━━━━━\u001b[0m\u001b[37m\u001b[0m \u001b[1m11s\u001b[0m 6ms/step - loss: 0.0018\n",
            "Epoch 65/100\n",
            "\u001b[1m1053/1053\u001b[0m \u001b[32m━━━━━━━━━━━━━━━━━━━━\u001b[0m\u001b[37m\u001b[0m \u001b[1m5s\u001b[0m 5ms/step - loss: 0.0018\n",
            "Epoch 66/100\n",
            "\u001b[1m1053/1053\u001b[0m \u001b[32m━━━━━━━━━━━━━━━━━━━━\u001b[0m\u001b[37m\u001b[0m \u001b[1m7s\u001b[0m 6ms/step - loss: 0.0018\n",
            "Epoch 67/100\n",
            "\u001b[1m1053/1053\u001b[0m \u001b[32m━━━━━━━━━━━━━━━━━━━━\u001b[0m\u001b[37m\u001b[0m \u001b[1m9s\u001b[0m 5ms/step - loss: 0.0018\n",
            "Epoch 68/100\n",
            "\u001b[1m1053/1053\u001b[0m \u001b[32m━━━━━━━━━━━━━━━━━━━━\u001b[0m\u001b[37m\u001b[0m \u001b[1m7s\u001b[0m 7ms/step - loss: 0.0018\n",
            "Epoch 69/100\n",
            "\u001b[1m1053/1053\u001b[0m \u001b[32m━━━━━━━━━━━━━━━━━━━━\u001b[0m\u001b[37m\u001b[0m \u001b[1m6s\u001b[0m 5ms/step - loss: 0.0018\n",
            "Epoch 70/100\n",
            "\u001b[1m1053/1053\u001b[0m \u001b[32m━━━━━━━━━━━━━━━━━━━━\u001b[0m\u001b[37m\u001b[0m \u001b[1m6s\u001b[0m 6ms/step - loss: 0.0018\n",
            "Epoch 71/100\n",
            "\u001b[1m1053/1053\u001b[0m \u001b[32m━━━━━━━━━━━━━━━━━━━━\u001b[0m\u001b[37m\u001b[0m \u001b[1m6s\u001b[0m 6ms/step - loss: 0.0018\n",
            "Epoch 72/100\n",
            "\u001b[1m1053/1053\u001b[0m \u001b[32m━━━━━━━━━━━━━━━━━━━━\u001b[0m\u001b[37m\u001b[0m \u001b[1m11s\u001b[0m 6ms/step - loss: 0.0018\n",
            "Epoch 73/100\n",
            "\u001b[1m1053/1053\u001b[0m \u001b[32m━━━━━━━━━━━━━━━━━━━━\u001b[0m\u001b[37m\u001b[0m \u001b[1m9s\u001b[0m 5ms/step - loss: 0.0018\n",
            "Epoch 74/100\n",
            "\u001b[1m1053/1053\u001b[0m \u001b[32m━━━━━━━━━━━━━━━━━━━━\u001b[0m\u001b[37m\u001b[0m \u001b[1m10s\u001b[0m 5ms/step - loss: 0.0018\n",
            "Epoch 75/100\n",
            "\u001b[1m1053/1053\u001b[0m \u001b[32m━━━━━━━━━━━━━━━━━━━━\u001b[0m\u001b[37m\u001b[0m \u001b[1m6s\u001b[0m 6ms/step - loss: 0.0017\n",
            "Epoch 76/100\n",
            "\u001b[1m1053/1053\u001b[0m \u001b[32m━━━━━━━━━━━━━━━━━━━━\u001b[0m\u001b[37m\u001b[0m \u001b[1m9s\u001b[0m 5ms/step - loss: 0.0019\n",
            "Epoch 77/100\n",
            "\u001b[1m1053/1053\u001b[0m \u001b[32m━━━━━━━━━━━━━━━━━━━━\u001b[0m\u001b[37m\u001b[0m \u001b[1m7s\u001b[0m 6ms/step - loss: 0.0018\n",
            "Epoch 78/100\n",
            "\u001b[1m1053/1053\u001b[0m \u001b[32m━━━━━━━━━━━━━━━━━━━━\u001b[0m\u001b[37m\u001b[0m \u001b[1m9s\u001b[0m 5ms/step - loss: 0.0019\n",
            "Epoch 79/100\n",
            "\u001b[1m1053/1053\u001b[0m \u001b[32m━━━━━━━━━━━━━━━━━━━━\u001b[0m\u001b[37m\u001b[0m \u001b[1m10s\u001b[0m 5ms/step - loss: 0.0017\n",
            "Epoch 80/100\n",
            "\u001b[1m1053/1053\u001b[0m \u001b[32m━━━━━━━━━━━━━━━━━━━━\u001b[0m\u001b[37m\u001b[0m \u001b[1m6s\u001b[0m 6ms/step - loss: 0.0018\n",
            "Epoch 81/100\n",
            "\u001b[1m1053/1053\u001b[0m \u001b[32m━━━━━━━━━━━━━━━━━━━━\u001b[0m\u001b[37m\u001b[0m \u001b[1m9s\u001b[0m 5ms/step - loss: 0.0019\n",
            "Epoch 82/100\n",
            "\u001b[1m1053/1053\u001b[0m \u001b[32m━━━━━━━━━━━━━━━━━━━━\u001b[0m\u001b[37m\u001b[0m \u001b[1m7s\u001b[0m 7ms/step - loss: 0.0018\n",
            "Epoch 83/100\n",
            "\u001b[1m1053/1053\u001b[0m \u001b[32m━━━━━━━━━━━━━━━━━━━━\u001b[0m\u001b[37m\u001b[0m \u001b[1m8s\u001b[0m 5ms/step - loss: 0.0018\n",
            "Epoch 84/100\n",
            "\u001b[1m1053/1053\u001b[0m \u001b[32m━━━━━━━━━━━━━━━━━━━━\u001b[0m\u001b[37m\u001b[0m \u001b[1m10s\u001b[0m 5ms/step - loss: 0.0018\n",
            "Epoch 85/100\n",
            "\u001b[1m1053/1053\u001b[0m \u001b[32m━━━━━━━━━━━━━━━━━━━━\u001b[0m\u001b[37m\u001b[0m \u001b[1m12s\u001b[0m 6ms/step - loss: 0.0018\n",
            "Epoch 86/100\n",
            "\u001b[1m1053/1053\u001b[0m \u001b[32m━━━━━━━━━━━━━━━━━━━━\u001b[0m\u001b[37m\u001b[0m \u001b[1m6s\u001b[0m 5ms/step - loss: 0.0018\n",
            "Epoch 87/100\n",
            "\u001b[1m1053/1053\u001b[0m \u001b[32m━━━━━━━━━━━━━━━━━━━━\u001b[0m\u001b[37m\u001b[0m \u001b[1m7s\u001b[0m 7ms/step - loss: 0.0018\n",
            "Epoch 88/100\n",
            "\u001b[1m1053/1053\u001b[0m \u001b[32m━━━━━━━━━━━━━━━━━━━━\u001b[0m\u001b[37m\u001b[0m \u001b[1m8s\u001b[0m 5ms/step - loss: 0.0018\n",
            "Epoch 89/100\n",
            "\u001b[1m1053/1053\u001b[0m \u001b[32m━━━━━━━━━━━━━━━━━━━━\u001b[0m\u001b[37m\u001b[0m \u001b[1m10s\u001b[0m 5ms/step - loss: 0.0018\n",
            "Epoch 90/100\n",
            "\u001b[1m1053/1053\u001b[0m \u001b[32m━━━━━━━━━━━━━━━━━━━━\u001b[0m\u001b[37m\u001b[0m \u001b[1m12s\u001b[0m 6ms/step - loss: 0.0018\n",
            "Epoch 91/100\n",
            "\u001b[1m1053/1053\u001b[0m \u001b[32m━━━━━━━━━━━━━━━━━━━━\u001b[0m\u001b[37m\u001b[0m \u001b[1m10s\u001b[0m 6ms/step - loss: 0.0018\n",
            "Epoch 92/100\n",
            "\u001b[1m1053/1053\u001b[0m \u001b[32m━━━━━━━━━━━━━━━━━━━━\u001b[0m\u001b[37m\u001b[0m \u001b[1m9s\u001b[0m 5ms/step - loss: 0.0018\n",
            "Epoch 93/100\n",
            "\u001b[1m1053/1053\u001b[0m \u001b[32m━━━━━━━━━━━━━━━━━━━━\u001b[0m\u001b[37m\u001b[0m \u001b[1m7s\u001b[0m 7ms/step - loss: 0.0017\n",
            "Epoch 94/100\n",
            "\u001b[1m1053/1053\u001b[0m \u001b[32m━━━━━━━━━━━━━━━━━━━━\u001b[0m\u001b[37m\u001b[0m \u001b[1m6s\u001b[0m 5ms/step - loss: 0.0018\n",
            "Epoch 95/100\n",
            "\u001b[1m1053/1053\u001b[0m \u001b[32m━━━━━━━━━━━━━━━━━━━━\u001b[0m\u001b[37m\u001b[0m \u001b[1m12s\u001b[0m 7ms/step - loss: 0.0017\n",
            "Epoch 96/100\n",
            "\u001b[1m1053/1053\u001b[0m \u001b[32m━━━━━━━━━━━━━━━━━━━━\u001b[0m\u001b[37m\u001b[0m \u001b[1m5s\u001b[0m 5ms/step - loss: 0.0018\n",
            "Epoch 97/100\n",
            "\u001b[1m1053/1053\u001b[0m \u001b[32m━━━━━━━━━━━━━━━━━━━━\u001b[0m\u001b[37m\u001b[0m \u001b[1m7s\u001b[0m 7ms/step - loss: 0.0018\n",
            "Epoch 98/100\n",
            "\u001b[1m1053/1053\u001b[0m \u001b[32m━━━━━━━━━━━━━━━━━━━━\u001b[0m\u001b[37m\u001b[0m \u001b[1m6s\u001b[0m 5ms/step - loss: 0.0018\n",
            "Epoch 99/100\n",
            "\u001b[1m1053/1053\u001b[0m \u001b[32m━━━━━━━━━━━━━━━━━━━━\u001b[0m\u001b[37m\u001b[0m \u001b[1m5s\u001b[0m 5ms/step - loss: 0.0018\n",
            "Epoch 100/100\n",
            "\u001b[1m1053/1053\u001b[0m \u001b[32m━━━━━━━━━━━━━━━━━━━━\u001b[0m\u001b[37m\u001b[0m \u001b[1m8s\u001b[0m 7ms/step - loss: 0.0018\n"
          ]
        },
        {
          "data": {
            "text/plain": [
              "<keras.src.callbacks.history.History at 0x790ce365cd60>"
            ]
          },
          "execution_count": 26,
          "metadata": {},
          "output_type": "execute_result"
        }
      ],
      "source": [
        "model.fit(X_train, y_train, epochs=100, batch_size=32)\n"
      ]
    },
    {
      "cell_type": "markdown",
      "metadata": {
        "id": "NwP_TpFfL7nA"
      },
      "source": [
        "## Make preductuion and evaluatuin matrix."
      ]
    },
    {
      "cell_type": "code",
      "execution_count": 27,
      "metadata": {
        "colab": {
          "base_uri": "https://localhost:8080/"
        },
        "id": "avmfYeZ1YKuC",
        "outputId": "edbe6f66-f0f2-4cdb-b3b5-c21f8f1468ea"
      },
      "outputs": [
        {
          "data": {
            "text/plain": [
              "array([0.03351955, 0.04469274, 0.02793296, ..., 0.02793296, 0.04469274,\n",
              "       0.04469274], dtype=float32)"
            ]
          },
          "execution_count": 27,
          "metadata": {},
          "output_type": "execute_result"
        }
      ],
      "source": [
        "y_train"
      ]
    },
    {
      "cell_type": "code",
      "execution_count": 28,
      "metadata": {
        "colab": {
          "base_uri": "https://localhost:8080/"
        },
        "id": "4lEgbNGULrbv",
        "outputId": "49b86f38-9756-4f81-c43f-a40865f600e4"
      },
      "outputs": [
        {
          "name": "stdout",
          "output_type": "stream",
          "text": [
            "\u001b[1m1053/1053\u001b[0m \u001b[32m━━━━━━━━━━━━━━━━━━━━\u001b[0m\u001b[37m\u001b[0m \u001b[1m3s\u001b[0m 3ms/step\n",
            "\u001b[1m451/451\u001b[0m \u001b[32m━━━━━━━━━━━━━━━━━━━━\u001b[0m\u001b[37m\u001b[0m \u001b[1m2s\u001b[0m 3ms/step\n"
          ]
        }
      ],
      "source": [
        "from sklearn.metrics import mean_squared_error\n",
        "\n",
        "train_pred = model.predict(X_train)\n",
        "test_pred = model.predict(X_test)\n",
        "\n",
        "\n",
        "train_pred = scaler.inverse_transform(train_pred)\n",
        "y_train = scaler.inverse_transform([y_train])\n",
        "\n",
        "test_pred = scaler.inverse_transform(test_pred)\n",
        "y_test = scaler.inverse_transform([y_test])\n"
      ]
    },
    {
      "cell_type": "code",
      "execution_count": 29,
      "metadata": {
        "colab": {
          "base_uri": "https://localhost:8080/"
        },
        "id": "ioYSLWryYsaM",
        "outputId": "57149aa1-825f-4e1f-da6b-a8283c3fdad0"
      },
      "outputs": [
        {
          "data": {
            "text/plain": [
              "array([13.000827 , 10.628427 , 11.166022 , ..., 10.58643  ,  9.1505375,\n",
              "       10.951385 ], dtype=float32)"
            ]
          },
          "execution_count": 29,
          "metadata": {},
          "output_type": "execute_result"
        }
      ],
      "source": [
        "train_pred[:, 0]"
      ]
    },
    {
      "cell_type": "code",
      "execution_count": 30,
      "metadata": {
        "colab": {
          "base_uri": "https://localhost:8080/"
        },
        "id": "xEbnH_GYqd6o",
        "outputId": "ef89494f-1d17-4c60-ee81-79ccb0b92dda"
      },
      "outputs": [
        {
          "data": {
            "text/plain": [
              "array([[7.0000005 , 9.        , 5.99999975, ..., 5.99999975, 9.        ,\n",
              "        9.        ]])"
            ]
          },
          "execution_count": 30,
          "metadata": {},
          "output_type": "execute_result"
        }
      ],
      "source": [
        "y_train"
      ]
    },
    {
      "cell_type": "code",
      "execution_count": 31,
      "metadata": {
        "colab": {
          "base_uri": "https://localhost:8080/"
        },
        "id": "UKjT_Q2Lqi0l",
        "outputId": "a7b7abe1-9e15-4266-e39c-ce76318ebb90"
      },
      "outputs": [
        {
          "data": {
            "text/plain": [
              "array([[14.99999917, 12.99999967, 14.00000008, ..., 29.99999875,\n",
              "        15.99999958, 21.99999942]])"
            ]
          },
          "execution_count": 31,
          "metadata": {},
          "output_type": "execute_result"
        }
      ],
      "source": [
        "y_test"
      ]
    },
    {
      "cell_type": "code",
      "execution_count": 32,
      "metadata": {
        "colab": {
          "base_uri": "https://localhost:8080/"
        },
        "id": "NJIAKIQPYq5u",
        "outputId": "6421401d-82fd-4ba8-c92a-cbd65d689fb8"
      },
      "outputs": [
        {
          "name": "stdout",
          "output_type": "stream",
          "text": [
            "Train Score: 5.02 RMSE\n",
            "Test Score: 5.81 RMSE\n"
          ]
        }
      ],
      "source": [
        "train_score = np.sqrt(mean_squared_error(y_train[0], train_pred[:, 0]))\n",
        "print('Train Score: %.2f RMSE' % (train_score))\n",
        "\n",
        "test_score = np.sqrt(mean_squared_error(y_test[0], test_pred[:, 0]))\n",
        "print('Test Score: %.2f RMSE' % (test_score))\n"
      ]
    },
    {
      "cell_type": "markdown",
      "metadata": {
        "id": "ZpkMef5uMULa"
      },
      "source": [
        "## Visualize the result"
      ]
    },
    {
      "cell_type": "code",
      "execution_count": 33,
      "metadata": {
        "colab": {
          "base_uri": "https://localhost:8080/",
          "height": 430
        },
        "id": "B1T1VicEMXC_",
        "outputId": "34265dc2-5b6f-4745-8b60-d3126395abe1"
      },
      "outputs": [
        {
          "data": {
            "image/png": "[encoded data removed]",
            "text/plain": [
              "<Figure size 640x480 with 1 Axes>"
            ]
          },
          "metadata": {},
          "output_type": "display_data"
        }
      ],
      "source": [
        "train_predict_plot = np.empty_like(dataset)\n",
        "train_predict_plot[:, :] = np.nan\n",
        "train_predict_plot[look_back:len(train_pred)+look_back, :] = train_pred\n",
        "\n",
        "test_predict_plot = np.empty_like(dataset)\n",
        "test_predict_plot[:, :] = np.nan\n",
        "test_predict_plot[len(train_pred)+(look_back*2)+1:len(dataset)-1, :] = test_pred\n",
        "\n",
        "plt.plot(scaler.inverse_transform(dataset), color='green', linewidth=2,)\n",
        "plt.plot(train_predict_plot)\n",
        "plt.plot(test_predict_plot)\n",
        "plt.show()\n"
      ]
    },
    {
      "cell_type": "markdown",
      "metadata": {
        "id": "vhRBaufKtiu3"
      },
      "source": [
        "**Train RMSE (5.02):**\n",
        "\n",
        "This is the Root Mean Squared Error on the training data. A lower RMSE indicates that the model predictions are close to the actual values on the training data. An RMSE of 5.02 suggests that the model is performing quite well on the training set.\n",
        "\n",
        "\n",
        "**Test RMSE (5.81):**\n",
        "\n",
        "This is the Root Mean Squared Error on the test data. The RMSE on the test data is slightly higher than on the training data, which is expected since the model has not seen the test data during training. An RMSE of 5.81 is still quite good, indicating that the model is generalizing well to unseen data.\n",
        "\n",
        "---\n",
        "\n",
        "**Orange Line:**\n",
        "\n",
        "This likely represents the predictions for the training dataset. It closely follows the underlying actual values, indicating that the model has learned the pattern in the training data well.\n",
        "\n",
        "**Green Line:**\n",
        "This likely represents the predictions for the test dataset. It also follows the actual values, but with some deviations, particularly in areas with rapid fluctuations or spikes.\n",
        "\n",
        "**Blue Line (or shadow):**\n",
        "This line appears to represent the actual values of the number of vehicles. Both the orange and green lines should be compared against this to gauge the model's performance."
      ]
    },
    {
      "cell_type": "markdown",
      "metadata": {
        "id": "_80frLg-MENd"
      },
      "source": [
        "# **Well done** :)"
      ]
    }
  ],
  "metadata": {
    "colab": {
      "provenance": []
    },
    "kernelspec": {
      "display_name": "Python 3",
      "name": "python3"
    },
    "language_info": {
      "name": "python"
    }
  },
  "nbformat": 4,
  "nbformat_minor": 0
}
